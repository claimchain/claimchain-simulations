{
 "cells": [
  {
   "cell_type": "code",
   "execution_count": 1,
   "metadata": {},
   "outputs": [
    {
     "name": "stdout",
     "output_type": "stream",
     "text": [
      "Populating the interactive namespace from numpy and matplotlib\n"
     ]
    }
   ],
   "source": [
    "%pylab inline\n",
    "%load_ext autoreload\n",
    "%autoreload 2\n",
    "\n",
    "import os\n",
    "import sys\n",
    "import random\n",
    "import pstats\n",
    "\n",
    "from collections import defaultdict\n",
    "from profile import Profile as PythonProfiler\n",
    "from tqdm import tqdm_notebook\n",
    "\n",
    "import pandas as pd\n",
    "import seaborn as sns\n",
    "import hippiehug\n",
    "\n",
    "from msgpack import packb\n",
    "\n",
    "sys.path.append('..')\n",
    "\n",
    "from claimchain import State, View, LocalParams\n",
    "from claimchain.core import encode_claim\n",
    "from claimchain.utils.wrappers import serialize_object, Blob, Tree, check_evidence\n",
    "from claimchain.utils.profiling import Profiler, profiled"
   ]
  },
  {
   "cell_type": "code",
   "execution_count": 2,
   "metadata": {},
   "outputs": [],
   "source": [
    "sns.set_context(\"paper\", font_scale=2.5)\n",
    "sns.set_style(\"white\")\n",
    "sns.set_palette('colorblind', n_colors=4)"
   ]
  },
  {
   "cell_type": "code",
   "execution_count": 3,
   "metadata": {},
   "outputs": [],
   "source": [
    "image_data_folder = '../images'\n",
    "!mkdir -p $image_data_folder"
   ]
  },
  {
   "cell_type": "code",
   "execution_count": 4,
   "metadata": {},
   "outputs": [
    {
     "data": {
      "text/plain": [
       "'3.5.2 (default, Nov 23 2017, 16:37:01) \\n[GCC 5.4.0 20160609]'"
      ]
     },
     "execution_count": 4,
     "metadata": {},
     "output_type": "execute_result"
    }
   ],
   "source": [
    "sys.version"
   ]
  },
  {
   "cell_type": "markdown",
   "metadata": {},
   "source": [
    "## Generating test data\n",
    "\n",
    "This simulates `nb_readers` readers, each with own set of cryptographic keys. Every reader gets a random **32 byte** label associated with them, and **512 bytes** randomly generated claim about them.\n",
    "\n",
    "The random capability matrix is generated: for each of the target readers _t_, `nb_caps_per_reader` other readers are randomly chosen. These are the ones that the reader _t_ will be able to access claims about, i.e. be included in _t_'s capability list.\n",
    "\n"
   ]
  },
  {
   "cell_type": "code",
   "execution_count": 5,
   "metadata": {},
   "outputs": [],
   "source": [
    "def generate_test_data(nb_readers=1000, nb_caps_per_reader=1, label_size=32, claim_size=512):\n",
    "    labels = [b'label_' + os.urandom(label_size - 6) for _ in range(nb_readers)]\n",
    "    claims = [b'claim_' + os.urandom(claim_size - 6) for _ in range(nb_readers)]\n",
    "\n",
    "    params = [LocalParams.generate() for _ in range(nb_readers)]\n",
    "\n",
    "    reader_graph = {}\n",
    "    for reader_index in range(nb_readers):\n",
    "        cap = random.sample(range(nb_readers), nb_caps_per_reader)\n",
    "        reader_graph[reader_index] = cap\n",
    "\n",
    "    return reader_graph, labels, claims, params"
   ]
  },
  {
   "cell_type": "markdown",
   "metadata": {},
   "source": [
    "## Simulating the owner\n",
    "The owner builds a state consisting of the claims generated above, with the access capabilities as generated above. The state is committed to the chain."
   ]
  },
  {
   "cell_type": "code",
   "execution_count": 6,
   "metadata": {},
   "outputs": [],
   "source": [
    "def commit_claims(reader_graph, labels, claims, params):\n",
    "    owner_params = LocalParams.generate()\n",
    "    with owner_params.as_default():\n",
    "        state = State()\n",
    "        \n",
    "        # Add claims\n",
    "        for label, claim in zip(labels, claims):\n",
    "            state[label] = claim\n",
    "        \n",
    "        # Define the capability lists\n",
    "        for reader_index, cap_indexes in reader_graph.items():\n",
    "            reader_dh_pk = params[reader_index].dh.pk\n",
    "            cap_labels = [labels[cap_index] for cap_index in cap_indexes]\n",
    "            state.grant_access(reader_dh_pk, cap_labels)\n",
    "        \n",
    "        # Commit\n",
    "        chain = hippiehug.Chain()\n",
    "        state.commit(target_chain=chain)\n",
    "\n",
    "        return chain, state"
   ]
  },
  {
   "cell_type": "markdown",
   "metadata": {},
   "source": [
    "## Compute evidence\n",
    "\n",
    "Evidence of claim inclusion can be done either on the owner's side or on the client's side depending on the setting. We measure the size of evidence paths."
   ]
  },
  {
   "cell_type": "code",
   "execution_count": 7,
   "metadata": {},
   "outputs": [],
   "source": [
    "@profiled\n",
    "def compute_single_evidence_path(tree, lookup_key):\n",
    "    root, evidence = tree.evidence(lookup_key)\n",
    "    assert evidence[-1].key == lookup_key\n",
    "    return root, evidence\n",
    "\n",
    "@profiled\n",
    "def check_single_evidence_path(root_hash, evidence, lookup_key):\n",
    "    return check_evidence(root_hash, evidence, lookup_key)\n",
    "        \n",
    "def compute_random_evidences(state, nb_samples=200):\n",
    "    assert hasattr(state, '_enc_items_map')\n",
    "    tree = state._tree\n",
    "    evidence_map = {}\n",
    "    for lookup_key in random.sample(list(state._enc_items_map), nb_samples):\n",
    "        evidence_map[lookup_key] = \\\n",
    "                compute_single_evidence_path(tree, lookup_key)\n",
    "    return evidence_map\n",
    "\n",
    "def check_single_evidence(tree, evidence):\n",
    "    validation_tree = Tree(ObjectStore(evidence), root_hash=tree.root_hash)\n",
    "    \n",
    "\n",
    "def serialize_evidence(evidence):\n",
    "    return packb([serialize_object(node) for node in evidence])"
   ]
  },
  {
   "cell_type": "markdown",
   "metadata": {},
   "source": [
    "## Simulating the readers"
   ]
  },
  {
   "cell_type": "code",
   "execution_count": 8,
   "metadata": {},
   "outputs": [],
   "source": [
    "def read_claims(chain, reader_graph, labels, claims, params):\n",
    "    # Go over all of the readers\n",
    "    view = View(chain)\n",
    "    for reader_index, caps_indexes in reader_graph.items():\n",
    "        reader_params = params[reader_index]\n",
    "        with reader_params.as_default():\n",
    "            # Retrieve each of the accessible labels\n",
    "            for cap_index in caps_indexes:\n",
    "                label = labels[cap_index]\n",
    "                read_claim = view[labels[cap_index]]\n",
    "                \n",
    "                # Check the value matches original to be sure\n",
    "                assert read_claim == claims[cap_index]\n",
    "    return view"
   ]
  },
  {
   "cell_type": "markdown",
   "metadata": {},
   "source": [
    "## Size-dependent measurements and plots"
   ]
  },
  {
   "cell_type": "markdown",
   "metadata": {},
   "source": [
    "Sizes of claim sets to be simulated"
   ]
  },
  {
   "cell_type": "code",
   "execution_count": 9,
   "metadata": {},
   "outputs": [
    {
     "data": {
      "text/plain": [
       "[100, 600, 1100, 1600, 2100, 2600, 3100, 3600, 4100, 4600, 5100, 5600]"
      ]
     },
     "execution_count": 9,
     "metadata": {},
     "output_type": "execute_result"
    }
   ],
   "source": [
    "nb_claims_range = range(100, 6000, 500)\n",
    "list(nb_claims_range)"
   ]
  },
  {
   "cell_type": "code",
   "execution_count": 10,
   "metadata": {},
   "outputs": [],
   "source": [
    "evidence_length_data = pd.DataFrame(columns=('avg', 'std'))\n",
    "evidence_size_data = pd.DataFrame(columns=('avg', 'std'))\n",
    "evidence_computation_timing_data = pd.DataFrame(columns=('avg', 'std'))\n",
    "evidence_verification_timing_data = pd.DataFrame(columns=('avg', 'std'))\n",
    "store_snapshots = []\n",
    "\n",
    "for nb_claims in nb_claims_range:\n",
    "    reader_graph, labels, claims, params = generate_test_data(\n",
    "        nb_readers=nb_claims, nb_caps_per_reader=1)\n",
    "    \n",
    "    # Commit claims\n",
    "    chain, state = commit_claims(reader_graph, labels, claims, params)\n",
    "    # Compute evidence of inclusion for each claims\n",
    "    profiler = Profiler()\n",
    "    with profiler.as_default():\n",
    "        evidence_map = compute_random_evidences(state, nb_samples=200)\n",
    "        for lookup_key, (root_hash, evidence) in evidence_map.items():\n",
    "            assert check_single_evidence_path(root_hash, evidence, lookup_key)\n",
    "        \n",
    "    compute_stats = profiler.compute_stats()['compute_single_evidence_path']\n",
    "    verification_stats = profiler.compute_stats()['check_single_evidence_path']\n",
    "    \n",
    "    evidence_computation_timing_data.loc[nb_claims] = (compute_stats['avg'], compute_stats['std'])\n",
    "    evidence_verification_timing_data.loc[nb_claims] = (verification_stats['avg'], verification_stats['std'])\n",
    "    \n",
    "    evidence_lengths = np.array([len(evidence) for root, evidence in evidence_map.values()])\n",
    "    evidence_length_data.loc[nb_claims] = (evidence_lengths.mean(), evidence_lengths.std())\n",
    "\n",
    "    evidence_sizes = np.array([len(serialize_evidence(evidence)) for root, evidence in evidence_map.values()])\n",
    "    evidence_size_data.loc[nb_claims] = (evidence_sizes.mean(), evidence_sizes.std())\n",
    "    \n",
    "    store_snapshots.append(chain.store.copy())"
   ]
  },
  {
   "cell_type": "markdown",
   "metadata": {},
   "source": [
    "Evidence size"
   ]
  },
  {
   "cell_type": "code",
   "execution_count": 11,
   "metadata": {},
   "outputs": [
    {
     "data": {
      "image/png": "[encoded data removed]",
      "text/plain": [
       "<matplotlib.figure.Figure at 0x7f82be9829b0>"
      ]
     },
     "metadata": {},
     "output_type": "display_data"
    }
   ],
   "source": [
    "fig, ax1 = plt.subplots(figsize=(7, 4))\n",
    "ax1.plot(nb_claims_range, evidence_length_data['avg'])\n",
    "ax1.fill_between(nb_claims_range,\n",
    "                 evidence_length_data['avg'] - evidence_length_data['std'],\n",
    "                 evidence_length_data['avg'] + evidence_length_data['std'],\n",
    "                 alpha=.2,\n",
    "                 label='1 st.dev.')\n",
    "\n",
    "ax1.set_xlabel('Claim-capability pairs')\n",
    "ax1.set_ylabel('Length (nodes)')\n",
    "ax1.legend(loc=4)\n",
    "\n",
    "ax2 = ax1.twinx()\n",
    "\n",
    "# Plots happen to almost coincide on this scale, so setting alpha to zero.\n",
    "# Only plotting the invisible lines to show the right (bytes) scale.\n",
    "ax2.plot(nb_claims_range, evidence_size_data['avg'],\n",
    "         color='red', alpha=0)\n",
    "ax2.fill_between(nb_claims_range,\n",
    "                 evidence_size_data['avg'] - evidence_size_data['std'],\n",
    "                 evidence_size_data['avg'] + evidence_size_data['std'],\n",
    "                 color='red', alpha=0)\n",
    "ax2.set_ylabel('Size (bytes)')\n",
    "plt.xlim(100, 5600)\n",
    "\n",
    "plt.tight_layout()\n",
    "plt.title('Proof size')\n",
    "\n",
    "fig.savefig(os.path.join(image_data_folder, 'evidence_size.pdf'))"
   ]
  },
  {
   "cell_type": "markdown",
   "metadata": {},
   "source": [
    "Evidence timing"
   ]
  },
  {
   "cell_type": "code",
   "execution_count": 12,
   "metadata": {},
   "outputs": [
    {
     "data": {
      "image/png": "[encoded data removed]",
      "text/plain": [
       "<matplotlib.figure.Figure at 0x7f82e5293160>"
      ]
     },
     "metadata": {},
     "output_type": "display_data"
    }
   ],
   "source": [
    "evidence_timing_data_ms = evidence_computation_timing_data * 10e+6\n",
    "\n",
    "fig, ax = plt.subplots(figsize=(6, 4))\n",
    "\n",
    "ax.plot(nb_claims_range, evidence_timing_data_ms['avg'])\n",
    "ax.fill_between(nb_claims_range,\n",
    "                 evidence_timing_data_ms['avg'] - evidence_timing_data_ms['std'],\n",
    "                 evidence_timing_data_ms['avg'] + evidence_timing_data_ms['std'],\n",
    "                 alpha=.2,\n",
    "                 label='1 st.dev.')\n",
    "\n",
    "ax.legend(loc=4)\n",
    "ax.set_xlabel('Claim-capability pairs')\n",
    "ax.set_xlim(100, 5600)\n",
    "ax.set_ylabel('Runtime (µs)')\n",
    "ax.set_title('Proof computation')\n",
    "\n",
    "plt.tight_layout()\n",
    "\n",
    "fig.savefig(os.path.join(image_data_folder, 'evidence_computation_timing.pdf'))"
   ]
  },
  {
   "cell_type": "code",
   "execution_count": 13,
   "metadata": {},
   "outputs": [
    {
     "data": {
      "image/png": "[encoded data removed]",
      "text/plain": [
       "<matplotlib.figure.Figure at 0x7f82e50127f0>"
      ]
     },
     "metadata": {},
     "output_type": "display_data"
    }
   ],
   "source": [
    "evidence_timing_data_ms = evidence_verification_timing_data * 10e+6\n",
    "\n",
    "fig, ax = plt.subplots(figsize=(6, 4))\n",
    "\n",
    "ax.plot(nb_claims_range, evidence_timing_data_ms['avg'])\n",
    "ax.fill_between(nb_claims_range,\n",
    "                 evidence_timing_data_ms['avg'] - evidence_timing_data_ms['std'],\n",
    "                 evidence_timing_data_ms['avg'] + evidence_timing_data_ms['std'],\n",
    "                 alpha=.2,\n",
    "                 label='1 st.dev.')\n",
    "\n",
    "ax.legend(loc=4)\n",
    "ax.set_xlabel('Claim-capability pairs')\n",
    "ax.set_xlim(100, 5600)\n",
    "ax.set_ylabel('Runtime (µs)')\n",
    "ax.set_title('Proof verification')\n",
    "\n",
    "plt.tight_layout()\n",
    "\n",
    "fig.savefig(os.path.join(image_data_folder, 'evidence_verification_timing.pdf'))"
   ]
  },
  {
   "cell_type": "code",
   "execution_count": null,
   "metadata": {},
   "outputs": [
    {
     "data": {
      "application/vnd.jupyter.widget-view+json": {
       "model_id": "e263886d5d8148bdb58d9944a76ff5b4",
       "version_major": 2,
       "version_minor": 0
      },
      "text/html": [
       "<p>Failed to display Jupyter Widget of type <code>HBox</code>.</p>\n",
       "<p>\n",
       "  If you're reading this message in the Jupyter Notebook or JupyterLab Notebook, it may mean\n",
       "  that the widgets JavaScript is still loading. If this message persists, it\n",
       "  likely means that the widgets JavaScript library is either not installed or\n",
       "  not enabled. See the <a href=\"https://ipywidgets.readthedocs.io/en/stable/user_install.html\">Jupyter\n",
       "  Widgets Documentation</a> for setup instructions.\n",
       "</p>\n",
       "<p>\n",
       "  If you're reading this message in another frontend (for example, a static\n",
       "  rendering on GitHub or <a href=\"https://nbviewer.jupyter.org/\">NBViewer</a>),\n",
       "  it may mean that your frontend doesn't currently support widgets.\n",
       "</p>\n"
      ],
      "text/plain": [
       "HBox(children=(IntProgress(value=0, max=12), HTML(value='')))"
      ]
     },
     "metadata": {},
     "output_type": "display_data"
    }
   ],
   "source": [
    "build_tree_timing_data = pd.DataFrame(columns=['avg', 'std'])\n",
    "store_snapshots_1 = []\n",
    "\n",
    "for nb_claims in tqdm_notebook(nb_claims_range):\n",
    "    profiler = Profiler()\n",
    "    reader_graph, labels, claims, params = generate_test_data(\n",
    "        nb_readers=nb_claims, nb_caps_per_reader=1)\n",
    "    stats_per_iteration = []\n",
    "    for n in range(20):\n",
    "        with profiler.as_default():\n",
    "            chain, state = commit_claims(reader_graph, labels, claims, params)\n",
    "            stats = profiler.compute_stats()\n",
    "            stats_per_iteration.append(stats)\n",
    "    timings = np.array([stats['_build_tree']['avg'] for stats in stats_per_iteration])\n",
    "    build_tree_timing_data.loc[nb_claims] = (np.mean(timings), np.std(timings))\n",
    "    \n",
    "    store_snapshots_1.append(chain.store.copy())"
   ]
  },
  {
   "cell_type": "code",
   "execution_count": 19,
   "metadata": {},
   "outputs": [
    {
     "name": "stderr",
     "output_type": "stream",
     "text": [
      "/home/bogdan/Workspace/claimchain-simulations/venv/lib/python3.5/site-packages/matplotlib/figure.py:2022: UserWarning: This figure includes Axes that are not compatible with tight_layout, so results might be incorrect.\n",
      "  warnings.warn(\"This figure includes Axes that are not compatible \"\n"
     ]
    },
    {
     "data": {
      "image/png": "[encoded data removed]",
      "text/plain": [
       "<matplotlib.figure.Figure at 0x7f82df8a09e8>"
      ]
     },
     "metadata": {},
     "output_type": "display_data"
    }
   ],
   "source": [
    "fig, ax = plt.subplots()\n",
    "\n",
    "ax.plot(nb_claims_range, build_tree_timing_data['avg'])\n",
    "ax.fill_between(nb_claims_range,\n",
    "                 build_tree_timing_data['avg'] - build_tree_timing_data['std'],\n",
    "                 build_tree_timing_data['avg'] + build_tree_timing_data['std'],\n",
    "                 alpha=.2,\n",
    "                 label='1 st. dev.')\n",
    "\n",
    "ax.legend(loc=2, fontsize=15)\n",
    "ax.set_title('Claim map construction')\n",
    "ax.set_xlabel('Claim-capability pairs')\n",
    "ax.set_xlim(100, 5600)\n",
    "ax.set_ylabel('Time (s)')\n",
    "\n",
    "for item in ([ax.title, ax.xaxis.label, ax.yaxis.label] +\n",
    "             ax.get_xticklabels() + ax.get_yticklabels()):\n",
    "    item.set_fontsize(18)\n",
    "\n",
    "fig.set_figwidth(5)\n",
    "fig.set_figheight(4)\n",
    "fig.set_tight_layout(tight=True)\n",
    "    \n",
    "fig.savefig(os.path.join(image_data_folder, 'tree_build_timing.pdf'))"
   ]
  },
  {
   "cell_type": "markdown",
   "metadata": {},
   "source": [
    "Comparing the current timing for build the tree vs. inefficient one."
   ]
  },
  {
   "cell_type": "code",
   "execution_count": 20,
   "metadata": {},
   "outputs": [],
   "source": [
    "def is_leaf(obj):\n",
    "    return isinstance(obj, hippiehug.Nodes.Leaf)\n",
    "    \n",
    "def is_node(obj):\n",
    "    return isinstance(obj, hippiehug.Nodes.Branch)\n",
    "\n",
    "def is_block(obj):\n",
    "    return isinstance(obj, hippiehug.Block)\n",
    "    \n",
    "def is_blob(obj):\n",
    "    return isinstance(obj, Blob)\n",
    "\n",
    "def calc_objects_size(filter_fn, store):\n",
    "    objs = [serialize_object(obj) for obj in filter(filter_fn, store.values())]\n",
    "    return len(packb(objs))"
   ]
  },
  {
   "cell_type": "code",
   "execution_count": 21,
   "metadata": {},
   "outputs": [
    {
     "data": {
      "text/html": [
       "<div>\n",
       "<style scoped>\n",
       "    .dataframe tbody tr th:only-of-type {\n",
       "        vertical-align: middle;\n",
       "    }\n",
       "\n",
       "    .dataframe tbody tr th {\n",
       "        vertical-align: top;\n",
       "    }\n",
       "\n",
       "    .dataframe thead th {\n",
       "        text-align: right;\n",
       "    }\n",
       "</style>\n",
       "<table border=\"1\" class=\"dataframe\">\n",
       "  <thead>\n",
       "    <tr style=\"text-align: right;\">\n",
       "      <th></th>\n",
       "      <th>Tree nodes</th>\n",
       "      <th>Tree leaves</th>\n",
       "      <th>Block</th>\n",
       "    </tr>\n",
       "  </thead>\n",
       "  <tbody>\n",
       "    <tr>\n",
       "      <th>100</th>\n",
       "      <td>26243</td>\n",
       "      <td>75506</td>\n",
       "      <td>490</td>\n",
       "    </tr>\n",
       "    <tr>\n",
       "      <th>600</th>\n",
       "      <td>159523</td>\n",
       "      <td>452998</td>\n",
       "      <td>489</td>\n",
       "    </tr>\n",
       "    <tr>\n",
       "      <th>1100</th>\n",
       "      <td>292803</td>\n",
       "      <td>830499</td>\n",
       "      <td>490</td>\n",
       "    </tr>\n",
       "    <tr>\n",
       "      <th>1600</th>\n",
       "      <td>426803</td>\n",
       "      <td>1207998</td>\n",
       "      <td>490</td>\n",
       "    </tr>\n",
       "    <tr>\n",
       "      <th>2100</th>\n",
       "      <td>560163</td>\n",
       "      <td>1585487</td>\n",
       "      <td>490</td>\n",
       "    </tr>\n",
       "    <tr>\n",
       "      <th>2600</th>\n",
       "      <td>692803</td>\n",
       "      <td>1962996</td>\n",
       "      <td>490</td>\n",
       "    </tr>\n",
       "    <tr>\n",
       "      <th>3100</th>\n",
       "      <td>827603</td>\n",
       "      <td>2340486</td>\n",
       "      <td>490</td>\n",
       "    </tr>\n",
       "    <tr>\n",
       "      <th>3600</th>\n",
       "      <td>961443</td>\n",
       "      <td>2717982</td>\n",
       "      <td>490</td>\n",
       "    </tr>\n",
       "    <tr>\n",
       "      <th>4100</th>\n",
       "      <td>1091843</td>\n",
       "      <td>3095467</td>\n",
       "      <td>490</td>\n",
       "    </tr>\n",
       "    <tr>\n",
       "      <th>4600</th>\n",
       "      <td>1227603</td>\n",
       "      <td>3472970</td>\n",
       "      <td>490</td>\n",
       "    </tr>\n",
       "    <tr>\n",
       "      <th>5100</th>\n",
       "      <td>1361283</td>\n",
       "      <td>3850467</td>\n",
       "      <td>489</td>\n",
       "    </tr>\n",
       "    <tr>\n",
       "      <th>5600</th>\n",
       "      <td>1492003</td>\n",
       "      <td>4227952</td>\n",
       "      <td>489</td>\n",
       "    </tr>\n",
       "  </tbody>\n",
       "</table>\n",
       "</div>"
      ],
      "text/plain": [
       "     Tree nodes Tree leaves Block\n",
       "100       26243       75506   490\n",
       "600      159523      452998   489\n",
       "1100     292803      830499   490\n",
       "1600     426803     1207998   490\n",
       "2100     560163     1585487   490\n",
       "2600     692803     1962996   490\n",
       "3100     827603     2340486   490\n",
       "3600     961443     2717982   490\n",
       "4100    1091843     3095467   490\n",
       "4600    1227603     3472970   490\n",
       "5100    1361283     3850467   489\n",
       "5600    1492003     4227952   489"
      ]
     },
     "execution_count": 21,
     "metadata": {},
     "output_type": "execute_result"
    }
   ],
   "source": [
    "current_store_snapshots = store_snapshots_1\n",
    "sizes_data = pd.DataFrame(columns=['Tree nodes', 'Tree leaves', 'Block'])\n",
    "\n",
    "for nb_claims, snapshot in zip(nb_claims_range, current_store_snapshots):\n",
    "    sizes_data.loc[nb_claims] = (\n",
    "        calc_objects_size(is_node, snapshot),\n",
    "        calc_objects_size(is_blob, snapshot) + calc_objects_size(is_leaf, snapshot),\n",
    "        calc_objects_size(is_block, snapshot),\n",
    "    )\n",
    "sizes_data"
   ]
  },
  {
   "cell_type": "code",
   "execution_count": 25,
   "metadata": {},
   "outputs": [
    {
     "name": "stderr",
     "output_type": "stream",
     "text": [
      "/home/bogdan/Workspace/claimchain-simulations/venv/lib/python3.5/site-packages/matplotlib/figure.py:2022: UserWarning: This figure includes Axes that are not compatible with tight_layout, so results might be incorrect.\n",
      "  warnings.warn(\"This figure includes Axes that are not compatible \"\n"
     ]
    },
    {
     "data": {
      "image/png": "[encoded data removed]",
      "text/plain": [
       "<matplotlib.figure.Figure at 0x7f82e4967cc0>"
      ]
     },
     "metadata": {},
     "output_type": "display_data"
    }
   ],
   "source": [
    "sns.set_palette(['#e66101', '#fdb863', '#333333'])\n",
    "\n",
    "unit = 1 / (1024. * 1024.)\n",
    "fig, ax = plt.subplots()\n",
    "\n",
    "sizes_data_mb = sizes_data * unit\n",
    "sizes_data_mb.plot.area(ax=ax, legend=None)\n",
    "ax.legend(fontsize=14, loc=2)\n",
    "ax.set_title('Storage breakdown')\n",
    "ax.set_xlabel('Claim-capability pairs')\n",
    "ax.set_ylabel('Size (MB)')\n",
    "ax.set_xlim(0, 5000)\n",
    "ax.set_ylim(0.1, 5)\n",
    "\n",
    "for item in ([ax.title, ax.xaxis.label, ax.yaxis.label] +\n",
    "             ax.get_xticklabels() + ax.get_yticklabels()):\n",
    "    item.set_fontsize(18)\n",
    "\n",
    "fig.set_figwidth(5)\n",
    "fig.set_figheight(4)\n",
    "fig.set_tight_layout(tight=True)\n",
    "\n",
    "fig.savefig(os.path.join(image_data_folder, 'storage_size.pdf'))"
   ]
  },
  {
   "cell_type": "markdown",
   "metadata": {},
   "source": [
    "Block size"
   ]
  },
  {
   "cell_type": "code",
   "execution_count": 26,
   "metadata": {},
   "outputs": [
    {
     "data": {
      "text/plain": [
       "488"
      ]
     },
     "execution_count": 26,
     "metadata": {},
     "output_type": "execute_result"
    }
   ],
   "source": [
    "import msgpack\n",
    "len(msgpack.packb(serialize_object(chain.store.get(chain.head))))"
   ]
  },
  {
   "cell_type": "markdown",
   "metadata": {},
   "source": [
    "## Timing core operations"
   ]
  },
  {
   "cell_type": "code",
   "execution_count": 27,
   "metadata": {},
   "outputs": [],
   "source": [
    "def simulate():\n",
    "    reader_graph, labels, claims, params = generate_test_data()\n",
    "\n",
    "    # Commit claims\n",
    "    chain, state = commit_claims(reader_graph, labels, claims, params)\n",
    "    # Simulate readers\n",
    "    view = read_claims(chain, reader_graph, labels, claims, params)\n",
    "    # Compute evidence of inclusion for each claim\n",
    "    evidence_map = compute_random_evidences(state, 2000)"
   ]
  },
  {
   "cell_type": "markdown",
   "metadata": {},
   "source": [
    "### High-level profiling"
   ]
  },
  {
   "cell_type": "code",
   "execution_count": 28,
   "metadata": {},
   "outputs": [],
   "source": [
    "profiler = Profiler()\n",
    "with profiler.as_default():\n",
    "    simulate()\n",
    "    stats = profiler.compute_stats()"
   ]
  },
  {
   "cell_type": "code",
   "execution_count": 29,
   "metadata": {},
   "outputs": [
    {
     "data": {
      "text/html": [
       "<div>\n",
       "<style scoped>\n",
       "    .dataframe tbody tr th:only-of-type {\n",
       "        vertical-align: middle;\n",
       "    }\n",
       "\n",
       "    .dataframe tbody tr th {\n",
       "        vertical-align: top;\n",
       "    }\n",
       "\n",
       "    .dataframe thead th {\n",
       "        text-align: right;\n",
       "    }\n",
       "</style>\n",
       "<table border=\"1\" class=\"dataframe\">\n",
       "  <thead>\n",
       "    <tr style=\"text-align: right;\">\n",
       "      <th></th>\n",
       "      <th>avg</th>\n",
       "      <th>max</th>\n",
       "      <th>min</th>\n",
       "      <th>std</th>\n",
       "    </tr>\n",
       "  </thead>\n",
       "  <tbody>\n",
       "    <tr>\n",
       "      <th>_build_tree</th>\n",
       "      <td>29.69</td>\n",
       "      <td>29.69</td>\n",
       "      <td>29.69</td>\n",
       "      <td>NaN</td>\n",
       "    </tr>\n",
       "    <tr>\n",
       "      <th>compute_single_evidence_path</th>\n",
       "      <td>0.01</td>\n",
       "      <td>0.16</td>\n",
       "      <td>0.00</td>\n",
       "      <td>0.01</td>\n",
       "    </tr>\n",
       "    <tr>\n",
       "      <th>compute_vrf</th>\n",
       "      <td>1.04</td>\n",
       "      <td>1.50</td>\n",
       "      <td>0.80</td>\n",
       "      <td>0.10</td>\n",
       "    </tr>\n",
       "    <tr>\n",
       "      <th>decode_capability</th>\n",
       "      <td>0.11</td>\n",
       "      <td>0.14</td>\n",
       "      <td>0.11</td>\n",
       "      <td>0.00</td>\n",
       "    </tr>\n",
       "    <tr>\n",
       "      <th>decode_claim</th>\n",
       "      <td>1.79</td>\n",
       "      <td>2.18</td>\n",
       "      <td>1.51</td>\n",
       "      <td>0.12</td>\n",
       "    </tr>\n",
       "    <tr>\n",
       "      <th>encode_capability</th>\n",
       "      <td>0.10</td>\n",
       "      <td>0.14</td>\n",
       "      <td>0.10</td>\n",
       "      <td>0.00</td>\n",
       "    </tr>\n",
       "    <tr>\n",
       "      <th>encode_claim</th>\n",
       "      <td>1.08</td>\n",
       "      <td>1.54</td>\n",
       "      <td>0.84</td>\n",
       "      <td>0.10</td>\n",
       "    </tr>\n",
       "    <tr>\n",
       "      <th>get_capability_lookup_key</th>\n",
       "      <td>0.09</td>\n",
       "      <td>0.12</td>\n",
       "      <td>0.08</td>\n",
       "      <td>0.00</td>\n",
       "    </tr>\n",
       "    <tr>\n",
       "      <th>verify_vrf</th>\n",
       "      <td>1.73</td>\n",
       "      <td>2.12</td>\n",
       "      <td>1.45</td>\n",
       "      <td>0.12</td>\n",
       "    </tr>\n",
       "  </tbody>\n",
       "</table>\n",
       "</div>"
      ],
      "text/plain": [
       "                                avg    max    min   std\n",
       "_build_tree                   29.69  29.69  29.69   NaN\n",
       "compute_single_evidence_path   0.01   0.16   0.00  0.01\n",
       "compute_vrf                    1.04   1.50   0.80  0.10\n",
       "decode_capability              0.11   0.14   0.11  0.00\n",
       "decode_claim                   1.79   2.18   1.51  0.12\n",
       "encode_capability              0.10   0.14   0.10  0.00\n",
       "encode_claim                   1.08   1.54   0.84  0.10\n",
       "get_capability_lookup_key      0.09   0.12   0.08  0.00\n",
       "verify_vrf                     1.73   2.12   1.45  0.12"
      ]
     },
     "execution_count": 29,
     "metadata": {},
     "output_type": "execute_result"
    }
   ],
   "source": [
    "df = pd.DataFrame(stats)\n",
    "df = df.T\n",
    "stat_cols = ['avg', 'max', 'min', 'std']\n",
    "df = df[stat_cols].apply(lambda value: value * 1000)  # milliseconds\n",
    "df = df.round(2)\n",
    "df"
   ]
  },
  {
   "cell_type": "code",
   "execution_count": 30,
   "metadata": {
    "scrolled": false
   },
   "outputs": [
    {
     "name": "stdout",
     "output_type": "stream",
     "text": [
      "\\begin{tabular}{lrr}\n",
      "\\toprule\n",
      "{} &  avg (ms) &   std \\\\\n",
      "\\midrule\n",
      "Single entry inclusion proof computation   &      0.01 &  0.01 \\\\\n",
      "Single-label capab. lookup key computation &      0.09 &  0.00 \\\\\n",
      "Single-label capab. encoding               &      0.10 &  0.00 \\\\\n",
      "Single-label capab. decoding               &      0.11 &  0.00 \\\\\n",
      "VRF computation                            &      1.04 &  0.10 \\\\\n",
      "Claim encoding                             &      1.08 &  0.10 \\\\\n",
      "VRF verification                           &      1.73 &  0.12 \\\\\n",
      "Claim decoding                             &      1.79 &  0.12 \\\\\n",
      "Tree construction                          &     29.69 &   NaN \\\\\n",
      "\\bottomrule\n",
      "\\end{tabular}\n",
      "\n"
     ]
    }
   ],
   "source": [
    "pretty_df = df[['avg', 'std']].sort_index()\n",
    "readable_procedure_names = {\n",
    "    '_build_tree': 'Tree construction',\n",
    "    'compute_single_evidence_path': 'Single entry inclusion proof computation',\n",
    "    'compute_vrf': 'VRF computation',\n",
    "    'decode_capability': 'Single-label capab. decoding',\n",
    "    'decode_claim': 'Claim decoding',\n",
    "    'encode_capability': 'Single-label capab. encoding',\n",
    "    'encode_claim': 'Claim encoding',\n",
    "    'get_capability_lookup_key': 'Single-label capab. lookup key computation',\n",
    "    'verify_vrf': 'VRF verification',\n",
    "}\n",
    "pretty_df.index = [readable_procedure_names[func_name] for func_name in pretty_df.index]\n",
    "pretty_df.sort_values(by='avg', inplace=True)\n",
    "pretty_df.columns = ['avg (ms)', 'std']\n",
    "print(pretty_df.to_latex())"
   ]
  },
  {
   "cell_type": "markdown",
   "metadata": {},
   "source": [
    "### Low-level profiling"
   ]
  },
  {
   "cell_type": "markdown",
   "metadata": {},
   "source": [
    "Full simulation"
   ]
  },
  {
   "cell_type": "code",
   "execution_count": 31,
   "metadata": {},
   "outputs": [
    {
     "name": "stdout",
     "output_type": "stream",
     "text": [
      "         2702681 function calls (2554956 primitive calls) in 9.099 seconds\n",
      "\n",
      "   Ordered by: cumulative time\n",
      "\n",
      "   ncalls  tottime  percall  cumtime  percall filename:lineno(function)\n",
      "        1    0.000    0.000    9.099    9.099 profile:0(simulate())\n",
      "        1    0.000    0.000    9.095    9.095 :0(exec)\n",
      "        1    0.010    0.010    9.095    9.095 <string>:1(<module>)\n",
      "        1    0.000    0.000    9.065    9.065 <ipython-input-27-770b847371ee>:1(simulate)\n",
      "9001/7001    0.061    0.000    8.187    0.001 profiling.py:34(wrapped)\n",
      "        1    0.008    0.008    4.483    4.483 <ipython-input-8-4a2ad94190eb>:1(read_claims)\n",
      "     1000    0.004    0.000    4.424    0.004 state.py:252(__getitem__)\n",
      "        1    0.004    0.004    3.859    3.859 <ipython-input-6-04883c6cd016>:1(commit_claims)\n",
      "        1    0.005    0.005    3.813    3.813 state.py:99(commit)\n",
      "     1000    0.005    0.000    3.713    0.004 state.py:241(_lookup_claim)\n",
      "     1000    0.017    0.000    3.590    0.004 core.py:72(decode_claim)\n",
      "     1000    0.042    0.000    3.202    0.003 vrf.py:37(verify_vrf)\n",
      "     1000    0.019    0.000    3.022    0.003 core.py:51(encode_claim)\n",
      "     6005    0.023    0.000    2.822    0.000 pack.py:144(encode)\n",
      "18013/6009    0.074    0.000    2.796    0.000 __init__.py:41(packb)\n",
      "18013/6009    0.069    0.000    2.747    0.000 fallback.py:850(pack)\n",
      "62135/6009    1.026    0.000    2.718    0.000 fallback.py:740(_pack)\n",
      "     1000    0.043    0.000    2.651    0.003 vrf.py:18(compute_vrf)\n",
      "     2000    0.053    0.000    1.628    0.001 ec.py:195(hash_to_point)\n",
      "    14006    0.096    0.000    1.558    0.000 pack.py:103(default)\n",
      "     3918    1.387    0.000    1.387    0.000 :0(EC_POINT_set_compressed_coordinates_GFp)\n",
      "    12004    0.058    0.000    1.200    0.000 pack.py:81(ecpt_enc)\n",
      "    14004    0.073    0.000    0.967    0.000 ec.py:387(__rmul__)\n",
      "    14004    0.812    0.000    0.812    0.000 :0(EC_POINT_mul)\n",
      "     1000    0.008    0.000    0.707    0.001 state.py:228(_lookup_capability)\n",
      "   648738    0.689    0.000    0.697    0.000 :0(isinstance)\n",
      "     1004    0.006    0.000    0.657    0.001 ec.py:245(from_binary)\n",
      "     1004    0.644    0.001    0.644    0.001 :0(EC_POINT_oct2point)\n",
      "        1    0.002    0.002    0.515    0.515 <ipython-input-5-bfea3adba04c>:1(generate_test_data)\n",
      "        1    0.001    0.001    0.474    0.474 <ipython-input-5-bfea3adba04c>:5(<listcomp>)\n",
      "     1001    0.006    0.000    0.473    0.000 params.py:46(generate)\n",
      "     4004    0.040    0.000    0.466    0.000 params.py:30(generate)\n",
      "     4004    0.017    0.000    0.442    0.000 pack.py:150(decode)\n",
      "4008/4004    0.035    0.000    0.420    0.000 fallback.py:114(unpackb)\n",
      "     1000    0.018    0.000    0.377    0.000 core.py:94(encode_capability)\n",
      "        1    0.000    0.000    0.372    0.372 state.py:65(_build_tree)\n",
      "     1000    0.017    0.000    0.364    0.000 core.py:114(decode_capability)\n",
      "    20004    0.151    0.000    0.342    0.000 ec.py:437(export)\n",
      "     4000    0.008    0.000    0.330    0.000 wrappers.py:222(evidence)\n",
      "     4000    0.014    0.000    0.322    0.000 Tree.py:151(evidence)\n",
      "54245/4000    0.162    0.000    0.297    0.000 Nodes.py:242(evidence)\n",
      "12016/4004    0.078    0.000    0.296    0.000 fallback.py:559(_unpack)\n",
      "    33009    0.120    0.000    0.251    0.000 wrappers.py:10(get_default)\n",
      "        1    0.003    0.003    0.208    0.208 <ipython-input-7-f80d1b434e46>:11(compute_random_evidences)\n",
      "     2000    0.010    0.000    0.207    0.000 wrappers.py:164(__getitem__)\n",
      "        1    0.204    0.204    0.205    0.205 state.py:70(<dictcomp>)\n",
      "     4000    0.046    0.000    0.200    0.000 core.py:19(_compute_capability_key)\n",
      "    15004    0.081    0.000    0.195    0.000 bn.py:474(__mul__)\n",
      "     1000    0.016    0.000    0.191    0.000 core.py:39(get_capability_lookup_key)\n",
      "    12016    0.064    0.000    0.172    0.000 fallback.py:347(_read_header)\n",
      "    62885    0.108    0.000    0.171    0.000 wrappers.py:44(__getitem__)\n",
      "        1    0.005    0.005    0.166    0.166 wrappers.py:198(update)\n",
      "     2000    0.004    0.000    0.164    0.000 <ipython-input-7-f80d1b434e46>:1(compute_single_evidence_path)\n",
      "     2000    0.014    0.000    0.145    0.000 cipher.py:204(quick_gcm_dec)\n",
      "     2000    0.014    0.000    0.145    0.000 cipher.py:171(quick_gcm_enc)\n",
      "   151132    0.141    0.000    0.141    0.000 :0(len)\n",
      "    40008    0.135    0.000    0.135    0.000 :0(EC_POINT_point2oct)\n",
      "    43852    0.079    0.000    0.132    0.000 bn.py:220(__init__)\n",
      "    14006    0.060    0.000    0.116    0.000 __init__.py:10(__new__)\n",
      "        1    0.000    0.000    0.110    0.110 Tree.py:44(multi_add)\n",
      "   108226    0.110    0.000    0.110    0.000 :0(write)\n",
      "     2002    0.008    0.000    0.108    0.000 pack.py:52(bn_enc)\n",
      "    41934    0.064    0.000    0.105    0.000 bn.py:261(__del__)\n",
      "     5000    0.030    0.000    0.104    0.000 core.py:10(_compute_claim_key)\n",
      "    77524    0.062    0.000    0.102    0.000 wrappers.py:17(_check_hash)\n",
      "     4000    0.046    0.000    0.100    0.000 cipher.py:79(op)\n",
      "   1999/1    0.008    0.000    0.099    0.099 Nodes.py:55(multi_add)\n",
      "   1320/1    0.019    0.000    0.099    0.099 Nodes.py:136(multi_add)\n",
      "    18004    0.036    0.000    0.093    0.000 fallback.py:959(_pack_bin_header)\n",
      "     4000    0.043    0.000    0.085    0.000 cipher.py:273(update)\n",
      "    31000    0.054    0.000    0.085    0.000 encodings.py:6(ensure_binary)\n",
      "    28032    0.058    0.000    0.084    0.000 fallback.py:315(_reserve)\n",
      "     4004    0.008    0.000    0.080    0.000 bn.py:276(__lt__)\n",
      "    18008    0.044    0.000    0.080    0.000 bn.py:118(from_num)\n",
      "    76136    0.079    0.000    0.079    0.000 :0(pack)\n",
      "    18017    0.047    0.000    0.078    0.000 fallback.py:923(_pack_array_header)\n",
      "9008/5004    0.032    0.000    0.076    0.000 bn.py:265(__inner_cmp__)\n",
      "    33009    0.052    0.000    0.075    0.000 stack.py:222(get_default)\n",
      "     7918    0.031    0.000    0.072    0.000 bn.py:181(from_binary)\n",
      "    60015    0.059    0.000    0.071    0.000 :0(hasattr)\n",
      "    86861    0.069    0.000    0.069    0.000 bn.py:93(get_ctx)\n",
      "     4918    0.026    0.000    0.065    0.000 bn.py:676(__mod__)\n",
      "     5004    0.020    0.000    0.064    0.000 bn.py:361(random)\n",
      "    10000    0.015    0.000    0.062    0.000 wrappers.py:12(hid)\n",
      "     2002    0.013    0.000    0.058    0.000 bn.py:343(binary)\n",
      "    25017    0.038    0.000    0.055    0.000 ec.py:24(_check)\n",
      "     2000    0.004    0.000    0.055    0.000 cipher.py:139(dec)\n",
      "     2000    0.017    0.000    0.055    0.000 ec.py:289(__add__)\n",
      "    19008    0.032    0.000    0.054    0.000 ec.py:262(__init__)\n",
      "     2000    0.004    0.000    0.053    0.000 cipher.py:128(enc)\n",
      "     1999    0.012    0.000    0.053    0.000 Nodes.py:33(add)\n",
      "    43852    0.053    0.000    0.053    0.000 :0(BN_new)\n",
      "     4008    0.029    0.000    0.050    0.000 fallback.py:212(__init__)\n",
      "    37242    0.050    0.000    0.050    0.000 :0(digest)\n",
      "     1001    0.013    0.000    0.049    0.000 random.py:280(sample)\n",
      "    19008    0.028    0.000    0.049    0.000 ec.py:430(__del__)\n",
      "     4000    0.026    0.000    0.048    0.000 cipher.py:290(finalize)\n",
      "    12079    0.029    0.000    0.048    0.000 fallback.py:947(_pack_raw_header)\n",
      "    10004    0.021    0.000    0.047    0.000 Utils.py:9(binary_hash)\n",
      "    33324    0.047    0.000    0.047    0.000 :0(openssl_sha256)\n",
      "    36008    0.047    0.000    0.047    0.000 :0(new)\n",
      "    18013    0.039    0.000    0.044    0.000 fallback.py:711(__init__)\n",
      "     2000    0.017    0.000    0.044    0.000 ec.py:71(parameters)\n",
      "     8008    0.019    0.000    0.042    0.000 fallback.py:308(_read)\n",
      "    41936    0.041    0.000    0.041    0.000 :0(BN_clear_free)\n",
      "     1000    0.004    0.000    0.040    0.000 state.py:182(grant_access)\n",
      "    14006    0.023    0.000    0.036    0.000 <string>:12(__new__)\n",
      "    12004    0.022    0.000    0.035    0.000 ec.py:173(nid)\n",
      "     2000    0.004    0.000    0.035    0.000 ec.py:434(__hash__)\n",
      "     2004    0.004    0.000    0.034    0.000 pack.py:124(ext_hook)\n",
      "     7319    0.015    0.000    0.032    0.000 Nodes.py:4(h)\n",
      "     7319    0.012    0.000    0.031    0.000 wrappers.py:55(__setitem__)\n",
      "    11922    0.020    0.000    0.030    0.000 bn.py:50(_check)\n",
      "     4008    0.017    0.000    0.029    0.000 fallback.py:287(feed)\n",
      "     2000    0.007    0.000    0.026    0.000 pack.py:61(bn_dec)\n",
      "        1    0.000    0.000    0.026    0.026 state.py:193(__init__)\n",
      "        2    0.006    0.003    0.026    0.013 wrappers.py:30(__init__)\n",
      "    19008    0.022    0.000    0.022    0.000 :0(EC_POINT_new)\n",
      "     3319    0.007    0.000    0.021    0.000 Nodes.py:98(__init__)\n",
      "    19008    0.021    0.000    0.021    0.000 :0(EC_POINT_clear_free)\n",
      "     3000    0.012    0.000    0.020    0.000 random.py:220(_randbelow)\n",
      "     2000    0.007    0.000    0.019    0.000 Nodes.py:12(__init__)\n",
      "    16000    0.017    0.000    0.017    0.000 :0(EVP_CIPHER_CTX_ctrl)\n",
      "     5004    0.017    0.000    0.017    0.000 :0(BN_rand_range)\n",
      "    18013    0.016    0.000    0.016    0.000 :0(getvalue)\n",
      "    15237    0.015    0.000    0.015    0.000 :0(append)\n",
      "     2000    0.006    0.000    0.014    0.000 core.py:33(_salt_label)\n",
      "     2000    0.006    0.000    0.014    0.000 cipher.py:234(__init__)\n",
      "    12004    0.013    0.000    0.013    0.000 :0(EC_GROUP_get_curve_name)\n",
      "    14006    0.013    0.000    0.013    0.000 :0(__new__)\n",
      "     8000    0.013    0.000    0.013    0.000 :0(EVP_CipherInit_ex)\n",
      "     4004    0.012    0.000    0.012    0.000 :0(warn)\n",
      "     2000    0.007    0.000    0.012    0.000 ec.py:181(check_point)\n",
      "     2000    0.006    0.000    0.012    0.000 cipher.py:344(get_tag)\n",
      "     4000    0.007    0.000    0.011    0.000 cipher.py:238(init)\n",
      "     7918    0.011    0.000    0.011    0.000 :0(BN_bin2bn)\n",
      "     1000    0.004    0.000    0.011    0.000 bn.py:442(__sub__)\n",
      "     2000    0.006    0.000    0.011    0.000 ec.py:163(__eq__)\n",
      "        1    0.002    0.002    0.010    0.010 Tree.py:58(<listcomp>)\n",
      "     1001    0.002    0.000    0.010    0.000 wrappers.py:7(as_default)\n",
      "     4000    0.007    0.000    0.010    0.000 cipher.py:8(get_intptr)\n",
      "     4000    0.007    0.000    0.010    0.000 cipher.py:13(return_intptr)\n",
      "     2002    0.004    0.000    0.010    0.000 :0(next)\n",
      "     4008    0.007    0.000    0.009    0.000 fallback.py:299(_got_extradata)\n",
      "     4918    0.009    0.000    0.009    0.000 :0(BN_nnmod)\n",
      "    10013    0.009    0.000    0.009    0.000 :0(callable)\n",
      "     2000    0.005    0.000    0.009    0.000 cipher.py:368(set_tag)\n",
      "     1001    0.003    0.000    0.008    0.000 contextlib.py:63(__exit__)\n",
      "     1001    0.002    0.000    0.008    0.000 wrappers.py:31(set_default)\n",
      "     9075    0.008    0.000    0.008    0.000 :0(encode)\n",
      "     2002    0.005    0.000    0.008    0.000 abc.py:178(__instancecheck__)\n",
      "     2000    0.008    0.000    0.008    0.000 :0(EC_POINT_add)\n",
      "     7001    0.007    0.000    0.007    0.000 :0(pop)\n",
      "     4000    0.007    0.000    0.007    0.000 :0(EVP_CipherUpdate)\n",
      "     4000    0.006    0.000    0.006    0.000 :0(EVP_CipherFinal_ex)\n",
      "     2001    0.006    0.000    0.006    0.000 :0(urandom)\n",
      "     1001    0.002    0.000    0.006    0.000 contextlib.py:131(helper)\n",
      "     6005    0.006    0.000    0.006    0.000 pack.py:112(make_encoder)\n",
      "     2002    0.004    0.000    0.006    0.000 stack.py:228(get_context_manager)\n",
      "     3918    0.006    0.000    0.006    0.000 :0(openssl_sha512)\n",
      "     5004    0.006    0.000    0.006    0.000 :0(BN_cmp)\n",
      "        1    0.002    0.002    0.006    0.006 wrappers.py:208(<dictcomp>)\n",
      "     6004    0.006    0.000    0.006    0.000 ec.py:88(generator)\n",
      "     1001    0.002    0.000    0.006    0.000 contextlib.py:57(__enter__)\n",
      "     4008    0.006    0.000    0.006    0.000 fallback.py:85(_get_data_from_buffer)\n",
      "     1000    0.002    0.000    0.005    0.000 bn.py:282(__eq__)\n",
      "     6004    0.005    0.000    0.005    0.000 ec.py:114(order)\n",
      "     4008    0.005    0.000    0.005    0.000 :0(min)\n",
      "     2000    0.004    0.000    0.005    0.000 cipher.py:387(__del__)\n",
      "     4008    0.005    0.000    0.005    0.000 :0(unpack_from)\n",
      "        1    0.001    0.001    0.005    0.005 <ipython-input-5-bfea3adba04c>:3(<listcomp>)\n",
      "     3852    0.004    0.000    0.004    0.000 :0(getrandbits)\n",
      "     4000    0.004    0.000    0.004    0.000 cipher.py:72(len_block)\n",
      "        2    0.000    0.000    0.004    0.002 misc.py:14(__get__)\n",
      "        1    0.000    0.000    0.004    0.004 state.py:213(params)\n",
      "        1    0.000    0.000    0.004    0.004 params.py:62(from_dict)\n",
      "        4    0.000    0.000    0.004    0.001 params.py:70(maybe_load_keypair)\n",
      "        8    0.000    0.000    0.004    0.001 params.py:64(maybe_decode)\n",
      "        8    0.000    0.000    0.004    0.001 encodings.py:45(ascii2pet)\n",
      "     4000    0.004    0.000    0.004    0.000 :0(EVP_CIPHER_CTX_init)\n",
      "        1    0.004    0.004    0.004    0.004 :0(setprofile)\n",
      "     4004    0.004    0.000    0.004    0.000 pack.py:132(make_decoder)\n",
      "     1001    0.003    0.000    0.004    0.000 contextlib.py:37(__init__)\n",
      "     4000    0.004    0.000    0.004    0.000 Nodes.py:87(evidence)\n",
      "     2000    0.004    0.000    0.004    0.000 :0(EC_POINT_is_on_curve)\n",
      "     4008    0.004    0.000    0.004    0.000 <attrs generated init d20996ddac6896740d800c9fac4a6a633822cf55>:1(__init__)\n",
      "     3000    0.003    0.000    0.003    0.000 :0(bit_length)\n",
      "     2000    0.003    0.000    0.003    0.000 :0(EC_GROUP_cmp)\n",
      "     2000    0.003    0.000    0.003    0.000 :0(EC_GROUP_get_curve_GFp)\n",
      "        1    0.001    0.001    0.003    0.003 <ipython-input-5-bfea3adba04c>:2(<listcomp>)\n",
      "        4    0.000    0.000    0.003    0.001 pack.py:88(ecpt_dec)\n",
      "     4004    0.003    0.000    0.003    0.000 fallback.py:49(<lambda>)\n",
      "     2000    0.003    0.000    0.003    0.000 :0(EVP_CIPHER_CTX_new)\n",
      "        4    0.000    0.000    0.003    0.001 Chain.py:42(hash)\n",
      "        1    0.000    0.000    0.003    0.003 Chain.py:117(multi_add)\n",
      "     3003    0.003    0.000    0.003    0.000 _weakrefset.py:70(__contains__)\n",
      "     2002    0.002    0.000    0.002    0.000 :0(BN_bn2bin)\n",
      "     2002    0.002    0.000    0.002    0.000 :0(bn_num_bytes)\n",
      "        3    0.000    0.000    0.002    0.001 Chain.py:47(hid)\n",
      "     12/4    0.000    0.000    0.002    0.001 fallback.py:941(_pack_map_pairs)\n",
      "     2000    0.002    0.000    0.002    0.000 <attrs generated init 1d51871240fdc13bc476436f3d5558635745fbeb>:1(__init__)\n",
      "        5    0.000    0.000    0.002    0.000 encodings.py:34(pet2ascii)\n",
      "     1000    0.002    0.000    0.002    0.000 :0(BN_mul)\n",
      "        1    0.000    0.000    0.001    0.001 state.py:41(build)\n",
      "     2000    0.001    0.000    0.001    0.000 :0(ord)\n",
      "     1998    0.001    0.000    0.001    0.000 Nodes.py:90(_check_hash)\n",
      "     1000    0.001    0.000    0.001    0.000 :0(BN_sub)\n",
      "        1    0.000    0.000    0.001    0.001 state.py:77(_sign_block)\n",
      "       11    0.000    0.000    0.001    0.000 base58.py:73(b58decode)\n",
      "        1    0.000    0.000    0.001    0.001 params.py:55(public_export)\n",
      "     1002    0.001    0.000    0.001    0.000 <attrs generated init 8bd08602f1342ca8608cf8686febdb41bb0e345b>:1(__init__)\n",
      "     1030    0.001    0.000    0.001    0.000 :0(getattr)\n",
      "     1000    0.001    0.000    0.001    0.000 <ipython-input-6-04883c6cd016>:13(<listcomp>)\n",
      "     1000    0.001    0.000    0.001    0.000 :0(add)\n",
      "     1000    0.001    0.000    0.001    0.000 state.py:179(__setitem__)\n",
      "     1000    0.001    0.000    0.001    0.000 :0(update)\n",
      "        7    0.000    0.000    0.001    0.000 base58.py:41(b58encode)\n",
      "        7    0.000    0.000    0.001    0.000 base58.py:30(b58encode_int)\n",
      "        7    0.000    0.000    0.001    0.000 base58.py:61(b58decode_int)\n",
      "        3    0.000    0.000    0.000    0.000 encodings.py:26(ascii2bytes)\n",
      "      587    0.000    0.000    0.000    0.000 :0(divmod)\n",
      "      314    0.000    0.000    0.000    0.000 :0(index)\n",
      "        1    0.000    0.000    0.000    0.000 sign.py:6(sign)\n",
      "      3/2    0.000    0.000    0.000    0.000 _funcs.py:10(asdict)\n",
      "        2    0.000    0.000    0.000    0.000 encodings.py:18(bytes2ascii)\n",
      "        1    0.000    0.000    0.000    0.000 state.py:61(export)\n",
      "        4    0.000    0.000    0.000    0.000 ec.py:60(__init__)\n",
      "        1    0.000    0.000    0.000    0.000 ecdsa.py:41(do_ecdsa_setup)\n",
      "        4    0.000    0.000    0.000    0.000 :0(EC_GROUP_new_by_curve_name)\n",
      "        1    0.000    0.000    0.000    0.000 :0(ECDSA_sign_setup)\n",
      "        1    0.000    0.000    0.000    0.000 ecdsa.py:65(do_ecdsa_sign)\n",
      "       12    0.000    0.000    0.000    0.000 fallback.py:932(_pack_map_header)\n",
      "       15    0.000    0.000    0.000    0.000 _funcs.py:142(has)\n",
      "        5    0.000    0.000    0.000    0.000 _funcs.py:59(<genexpr>)\n",
      "       12    0.000    0.000    0.000    0.000 fallback.py:12(dict_iteritems)\n",
      "        4    0.000    0.000    0.000    0.000 ec.py:177(__del__)\n",
      "       22    0.000    0.000    0.000    0.000 :0(items)\n",
      "        3    0.000    0.000    0.000    0.000 _make.py:1003(fields)\n",
      "       14    0.000    0.000    0.000    0.000 :0(lstrip)\n",
      "        4    0.000    0.000    0.000    0.000 :0(EC_GROUP_precompute_mult)\n",
      "        4    0.000    0.000    0.000    0.000 :0(EC_GROUP_free)\n",
      "        2    0.000    0.000    0.000    0.000 wrappers.py:154(__init__)\n",
      "        1    0.000    0.000    0.000    0.000 state.py:209(payload)\n",
      "        1    0.000    0.000    0.000    0.000 :0(ECDSA_do_sign_ex)\n",
      "        2    0.000    0.000    0.000    0.000 :0(EC_KEY_set_group)\n",
      "        1    0.000    0.000    0.000    0.000 state.py:54(from_dict)\n",
      "        3    0.000    0.000    0.000    0.000 wrappers.py:160(root_hash)\n",
      "        8    0.000    0.000    0.000    0.000 :0(get)\n",
      "        2    0.000    0.000    0.000    0.000 <attrs generated init ec3de160b5f53139739064657ca1ec6380c44d8d>:1(__init__)\n",
      "        3    0.000    0.000    0.000    0.000 _compat.py:78(isclass)\n",
      "        6    0.000    0.000    0.000    0.000 cycler.py:227(<genexpr>)\n",
      "        7    0.000    0.000    0.000    0.000 base58.py:25(<lambda>)\n",
      "        4    0.000    0.000    0.000    0.000 :0(BN_copy)\n",
      "        1    0.000    0.000    0.000    0.000 state.py:83(__init__)\n",
      "        2    0.000    0.000    0.000    0.000 :0(EC_KEY_new)\n",
      "        2    0.000    0.000    0.000    0.000 :0(EC_KEY_set_private_key)\n",
      "        1    0.000    0.000    0.000    0.000 :0(log)\n",
      "        2    0.000    0.000    0.000    0.000 <attrs generated init 0f7b493ae2a84b2d4bbebcc21069f11153b2a556>:1(__init__)\n",
      "        2    0.000    0.000    0.000    0.000 Tree.py:5(__init__)\n",
      "        1    0.000    0.000    0.000    0.000 state.py:38(<lambda>)\n",
      "        3    0.000    0.000    0.000    0.000 Tree.py:21(root)\n",
      "        1    0.000    0.000    0.000    0.000 _compat.py:83(iteritems)\n",
      "        1    0.000    0.000    0.000    0.000 :0(EC_KEY_free)\n",
      "        1    0.000    0.000    0.000    0.000 Chain.py:35(__init__)\n",
      "        2    0.000    0.000    0.000    0.000 :0(setattr)\n",
      "        1    0.000    0.000    0.000    0.000 :0(ceil)\n",
      "        2    0.000    0.000    0.000    0.000 :0(values)\n",
      "        1    0.000    0.000    0.000    0.000 :0(ECDSA_SIG_free)\n",
      "        1    0.000    0.000    0.000    0.000 Chain.py:108(__init__)\n",
      "        1    0.000    0.000    0.000    0.000 :0(time)\n",
      "        1    0.000    0.000    0.000    0.000 Nodes.py:111(identity)\n",
      "        1    0.000    0.000    0.000    0.000 :0(keys)\n",
      "        1    0.000    0.000    0.000    0.000 Nodes.py:29(identity)\n",
      "        0    0.000             0.000          profile:0(profiler)\n",
      "\n",
      "\n"
     ]
    }
   ],
   "source": [
    "profiler = PythonProfiler()\n",
    "profiler.runctx(\"simulate()\", globals(), locals())\n",
    "profiler.create_stats()\n",
    "\n",
    "profiler.print_stats(sort='cumtime')"
   ]
  }
 ],
 "metadata": {
  "kernelspec": {
   "display_name": "Python 3",
   "language": "python",
   "name": "python3"
  },
  "language_info": {
   "codemirror_mode": {
    "name": "ipython",
    "version": 3
   },
   "file_extension": ".py",
   "mimetype": "text/x-python",
   "name": "python",
   "nbconvert_exporter": "python",
   "pygments_lexer": "ipython3",
   "version": "3.5.2"
  }
 },
 "nbformat": 4,
 "nbformat_minor": 1
}
