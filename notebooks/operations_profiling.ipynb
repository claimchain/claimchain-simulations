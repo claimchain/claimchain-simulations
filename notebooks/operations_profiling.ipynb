{
 "cells": [
  {
   "cell_type": "code",
   "execution_count": 1,
   "metadata": {},
   "outputs": [
    {
     "name": "stdout",
     "output_type": "stream",
     "text": [
      "Populating the interactive namespace from numpy and matplotlib\n"
     ]
    }
   ],
   "source": [
    "%pylab inline\n",
    "%load_ext autoreload\n",
    "%autoreload 2\n",
    "\n",
    "import os\n",
    "import sys\n",
    "import random\n",
    "import pstats\n",
    "import tqdm\n",
    "import matplotlib\n",
    "\n",
    "from collections import defaultdict\n",
    "from profile import Profile as PythonProfiler\n",
    "from tqdm import tqdm_notebook\n",
    "\n",
    "import pandas as pd\n",
    "import seaborn as sns\n",
    "import hippiehug\n",
    "\n",
    "from msgpack import packb\n",
    "\n",
    "sys.path.append('..')\n",
    "\n",
    "from claimchain import State, View, LocalParams\n",
    "from claimchain.core import encode_claim\n",
    "from claimchain.utils.wrappers import serialize_object, Blob, Tree, check_evidence\n",
    "\n",
    "from profiled import Profiler, profiled"
   ]
  },
  {
   "cell_type": "code",
   "execution_count": 2,
   "metadata": {},
   "outputs": [],
   "source": [
    "sns.set_context(\"paper\", font_scale=2.5)\n",
    "sns.set_style(\"white\")\n",
    "sns.set_palette('colorblind', n_colors=4)\n",
    "\n",
    "matplotlib.rcParams['pdf.fonttype'] = 42\n",
    "matplotlib.rcParams['ps.fonttype'] = 42"
   ]
  },
  {
   "cell_type": "code",
   "execution_count": 3,
   "metadata": {},
   "outputs": [],
   "source": [
    "image_data_folder = '../images'\n",
    "!mkdir -p $image_data_folder"
   ]
  },
  {
   "cell_type": "code",
   "execution_count": 4,
   "metadata": {},
   "outputs": [
    {
     "data": {
      "text/plain": [
       "'3.5.2 (default, Nov 23 2017, 16:37:01) \\n[GCC 5.4.0 20160609]'"
      ]
     },
     "execution_count": 4,
     "metadata": {},
     "output_type": "execute_result"
    }
   ],
   "source": [
    "sys.version"
   ]
  },
  {
   "cell_type": "markdown",
   "metadata": {},
   "source": [
    "## Generating test data\n",
    "\n",
    "This simulates `nb_readers` readers, each with own set of cryptographic keys. Every reader gets a random **32 byte** label associated with them, and **512 bytes** randomly generated claim about them.\n",
    "\n",
    "The random capability matrix is generated: for each of the target readers _t_, `nb_caps_per_reader` other readers are randomly chosen. These are the ones that the reader _t_ will be able to access claims about, i.e. be included in _t_'s capability list.\n",
    "\n"
   ]
  },
  {
   "cell_type": "code",
   "execution_count": 5,
   "metadata": {},
   "outputs": [],
   "source": [
    "def generate_test_data(nb_readers=1000, nb_caps_per_reader=1, label_size=32, claim_size=512):\n",
    "    labels = [b'label_' + os.urandom(label_size - 6) for _ in range(nb_readers)]\n",
    "    claims = [b'claim_' + os.urandom(claim_size - 6) for _ in range(nb_readers)]\n",
    "\n",
    "    params = [LocalParams.generate() for _ in range(nb_readers)]\n",
    "\n",
    "    reader_graph = {}\n",
    "    for reader_index in range(nb_readers):\n",
    "        cap = random.sample(range(nb_readers), nb_caps_per_reader)\n",
    "        reader_graph[reader_index] = cap\n",
    "\n",
    "    return reader_graph, labels, claims, params"
   ]
  },
  {
   "cell_type": "markdown",
   "metadata": {},
   "source": [
    "## Simulating the owner\n",
    "The owner builds a state consisting of the claims generated above, with the access capabilities as generated above. The state is committed to the chain."
   ]
  },
  {
   "cell_type": "code",
   "execution_count": 6,
   "metadata": {},
   "outputs": [],
   "source": [
    "def commit_claims(reader_graph, labels, claims, params):\n",
    "    owner_params = LocalParams.generate()\n",
    "    with owner_params.as_default():\n",
    "        state = State()\n",
    "        \n",
    "        # Add claims\n",
    "        for label, claim in zip(labels, claims):\n",
    "            state[label] = claim\n",
    "        \n",
    "        # Define the capability lists\n",
    "        for reader_index, cap_indexes in reader_graph.items():\n",
    "            reader_dh_pk = params[reader_index].dh.pk\n",
    "            cap_labels = [labels[cap_index] for cap_index in cap_indexes]\n",
    "            state.grant_access(reader_dh_pk, cap_labels)\n",
    "        \n",
    "        # Commit\n",
    "        chain = hippiehug.Chain()\n",
    "        state.commit(target_chain=chain)\n",
    "\n",
    "        return chain, state"
   ]
  },
  {
   "cell_type": "markdown",
   "metadata": {},
   "source": [
    "## Compute evidence\n",
    "\n",
    "Evidence of claim inclusion can be done either on the owner's side or on the client's side depending on the setting. We measure the size of evidence paths."
   ]
  },
  {
   "cell_type": "code",
   "execution_count": 7,
   "metadata": {},
   "outputs": [],
   "source": [
    "@profiled\n",
    "def compute_single_evidence_path(tree, lookup_key):\n",
    "    root, evidence = tree.evidence(lookup_key)\n",
    "    assert evidence[-1].key == lookup_key\n",
    "    return root, evidence\n",
    "\n",
    "@profiled\n",
    "def check_single_evidence_path(root_hash, evidence, lookup_key):\n",
    "    return check_evidence(root_hash, evidence, lookup_key)\n",
    "        \n",
    "def compute_random_evidences(state, nb_samples=200):\n",
    "    assert hasattr(state, '_enc_items_map')\n",
    "    tree = state._tree\n",
    "    evidence_map = {}\n",
    "    for lookup_key in random.sample(list(state._enc_items_map), nb_samples):\n",
    "        evidence_map[lookup_key] = \\\n",
    "                compute_single_evidence_path(tree, lookup_key)\n",
    "    return evidence_map\n",
    "\n",
    "def check_single_evidence(tree, evidence):\n",
    "    validation_tree = Tree(ObjectStore(evidence), root_hash=tree.root_hash)\n",
    "    \n",
    "\n",
    "def serialize_evidence(evidence):\n",
    "    return packb([serialize_object(node) for node in evidence])"
   ]
  },
  {
   "cell_type": "markdown",
   "metadata": {},
   "source": [
    "## Simulating the readers"
   ]
  },
  {
   "cell_type": "code",
   "execution_count": 8,
   "metadata": {},
   "outputs": [],
   "source": [
    "def read_claims(chain, reader_graph, labels, claims, params):\n",
    "    # Go over all of the readers\n",
    "    view = View(chain)\n",
    "    for reader_index, caps_indexes in reader_graph.items():\n",
    "        reader_params = params[reader_index]\n",
    "        with reader_params.as_default():\n",
    "            # Retrieve each of the accessible labels\n",
    "            for cap_index in caps_indexes:\n",
    "                label = labels[cap_index]\n",
    "                read_claim = view[labels[cap_index]]\n",
    "                \n",
    "                # Check the value matches original to be sure\n",
    "                assert read_claim == claims[cap_index]\n",
    "    return view"
   ]
  },
  {
   "cell_type": "markdown",
   "metadata": {},
   "source": [
    "## Size-dependent measurements and plots"
   ]
  },
  {
   "cell_type": "markdown",
   "metadata": {},
   "source": [
    "Sizes of claim sets to be simulated"
   ]
  },
  {
   "cell_type": "code",
   "execution_count": 9,
   "metadata": {},
   "outputs": [
    {
     "data": {
      "text/plain": [
       "[100, 600, 1100, 1600, 2100, 2600, 3100, 3600, 4100, 4600, 5100, 5600]"
      ]
     },
     "execution_count": 9,
     "metadata": {},
     "output_type": "execute_result"
    }
   ],
   "source": [
    "nb_claims_range = range(100, 6000, 500)\n",
    "list(nb_claims_range)"
   ]
  },
  {
   "cell_type": "code",
   "execution_count": 10,
   "metadata": {},
   "outputs": [
    {
     "data": {
      "application/vnd.jupyter.widget-view+json": {
       "model_id": "61da1aca43764ebb9687bae634386426",
       "version_major": 2,
       "version_minor": 0
      },
      "text/plain": [
       "HBox(children=(IntProgress(value=0, max=12), HTML(value='')))"
      ]
     },
     "metadata": {},
     "output_type": "display_data"
    },
    {
     "name": "stdout",
     "output_type": "stream",
     "text": [
      "\n"
     ]
    }
   ],
   "source": [
    "evidence_length_data = pd.DataFrame(columns=('avg', 'std'))\n",
    "evidence_size_data = pd.DataFrame(columns=('avg', 'std'))\n",
    "evidence_computation_timing_data = pd.DataFrame(columns=('avg', 'std'))\n",
    "evidence_verification_timing_data = pd.DataFrame(columns=('avg', 'std'))\n",
    "store_snapshots = []\n",
    "\n",
    "for nb_claims in tqdm.tqdm_notebook(nb_claims_range):\n",
    "    reader_graph, labels, claims, params = generate_test_data(\n",
    "        nb_readers=nb_claims, nb_caps_per_reader=1)\n",
    "    \n",
    "    # Commit claims\n",
    "    chain, state = commit_claims(reader_graph, labels, claims, params)\n",
    "    # Compute evidence of inclusion for each claims\n",
    "    profiler = Profiler()\n",
    "    with profiler.as_default():\n",
    "        evidence_map = compute_random_evidences(state, nb_samples=200)\n",
    "        for lookup_key, (root_hash, evidence) in evidence_map.items():\n",
    "            assert check_single_evidence_path(root_hash, evidence, lookup_key)\n",
    "        \n",
    "    compute_stats = profiler.compute_stats()['compute_single_evidence_path']\n",
    "    verification_stats = profiler.compute_stats()['check_single_evidence_path']\n",
    "    \n",
    "    evidence_computation_timing_data.loc[nb_claims] = (compute_stats['avg'], compute_stats['std'])\n",
    "    evidence_verification_timing_data.loc[nb_claims] = (verification_stats['avg'], verification_stats['std'])\n",
    "    \n",
    "    evidence_lengths = np.array([len(evidence) for root, evidence in evidence_map.values()])\n",
    "    evidence_length_data.loc[nb_claims] = (evidence_lengths.mean(), evidence_lengths.std())\n",
    "\n",
    "    evidence_sizes = np.array([len(serialize_evidence(evidence)) for root, evidence in evidence_map.values()])\n",
    "    evidence_size_data.loc[nb_claims] = (evidence_sizes.mean(), evidence_sizes.std())\n",
    "    \n",
    "    store_snapshots.append(chain.store.copy())"
   ]
  },
  {
   "cell_type": "markdown",
   "metadata": {},
   "source": [
    "Evidence size"
   ]
  },
  {
   "cell_type": "code",
   "execution_count": 11,
   "metadata": {},
   "outputs": [
    {
     "data": {
      "image/png": "[encoded data removed]",
      "text/plain": [
       "<Figure size 504x288 with 2 Axes>"
      ]
     },
     "metadata": {},
     "output_type": "display_data"
    }
   ],
   "source": [
    "fig, ax1 = plt.subplots(figsize=(7, 4))\n",
    "ax1.plot(nb_claims_range, evidence_length_data['avg'])\n",
    "ax1.fill_between(nb_claims_range,\n",
    "                 evidence_length_data['avg'] - evidence_length_data['std'],\n",
    "                 evidence_length_data['avg'] + evidence_length_data['std'],\n",
    "                 alpha=.2,\n",
    "                 label='1 st.dev.')\n",
    "\n",
    "ax1.set_xlabel('Claim-capability pairs')\n",
    "ax1.set_ylabel('Length (nodes)')\n",
    "ax1.legend(loc=4)\n",
    "\n",
    "ax2 = ax1.twinx()\n",
    "\n",
    "# Plots happen to almost coincide on this scale, so setting alpha to zero.\n",
    "# Only plotting the invisible lines to show the right (bytes) scale.\n",
    "ax2.plot(nb_claims_range, evidence_size_data['avg'],\n",
    "         color='red', alpha=0)\n",
    "ax2.fill_between(nb_claims_range,\n",
    "                 evidence_size_data['avg'] - evidence_size_data['std'],\n",
    "                 evidence_size_data['avg'] + evidence_size_data['std'],\n",
    "                 color='red', alpha=0)\n",
    "ax2.set_ylabel('Size (bytes)')\n",
    "plt.xlim(100, 5600)\n",
    "\n",
    "plt.tight_layout()\n",
    "plt.title('Proof size')\n",
    "\n",
    "fig.savefig(os.path.join(image_data_folder, 'evidence_size.pdf'))"
   ]
  },
  {
   "cell_type": "markdown",
   "metadata": {},
   "source": [
    "Evidence timing"
   ]
  },
  {
   "cell_type": "code",
   "execution_count": 12,
   "metadata": {},
   "outputs": [
    {
     "data": {
      "image/png": "[encoded data removed]",
      "text/plain": [
       "<Figure size 432x288 with 1 Axes>"
      ]
     },
     "metadata": {},
     "output_type": "display_data"
    }
   ],
   "source": [
    "evidence_timing_data_ms = evidence_computation_timing_data * 10e+6\n",
    "\n",
    "fig, ax = plt.subplots(figsize=(6, 4))\n",
    "\n",
    "ax.plot(nb_claims_range, evidence_timing_data_ms['avg'])\n",
    "ax.fill_between(nb_claims_range,\n",
    "                 evidence_timing_data_ms['avg'] - evidence_timing_data_ms['std'],\n",
    "                 evidence_timing_data_ms['avg'] + evidence_timing_data_ms['std'],\n",
    "                 alpha=.2,\n",
    "                 label='1 st.dev.')\n",
    "\n",
    "ax.legend(loc=4)\n",
    "ax.set_xlabel('Claim-capability pairs')\n",
    "ax.set_xlim(100, 5600)\n",
    "ax.set_ylabel('Runtime (µs)')\n",
    "ax.set_title('Proof computation')\n",
    "\n",
    "plt.tight_layout()\n",
    "\n",
    "fig.savefig(os.path.join(image_data_folder, 'evidence_computation_timing.pdf'))"
   ]
  },
  {
   "cell_type": "code",
   "execution_count": 13,
   "metadata": {},
   "outputs": [
    {
     "data": {
      "image/png": "[encoded data removed]",
      "text/plain": [
       "<Figure size 432x288 with 1 Axes>"
      ]
     },
     "metadata": {},
     "output_type": "display_data"
    }
   ],
   "source": [
    "evidence_timing_data_ms = evidence_verification_timing_data * 10e+6\n",
    "\n",
    "fig, ax = plt.subplots(figsize=(6, 4))\n",
    "\n",
    "ax.plot(nb_claims_range, evidence_timing_data_ms['avg'])\n",
    "ax.fill_between(nb_claims_range,\n",
    "                 evidence_timing_data_ms['avg'] - evidence_timing_data_ms['std'],\n",
    "                 evidence_timing_data_ms['avg'] + evidence_timing_data_ms['std'],\n",
    "                 alpha=.2,\n",
    "                 label='1 st.dev.')\n",
    "\n",
    "ax.legend(loc=4)\n",
    "ax.set_xlabel('Claim-capability pairs')\n",
    "ax.set_xlim(100, 5600)\n",
    "ax.set_ylabel('Runtime (µs)')\n",
    "ax.set_title('Proof verification')\n",
    "\n",
    "plt.tight_layout()\n",
    "\n",
    "fig.savefig(os.path.join(image_data_folder, 'evidence_verification_timing.pdf'))"
   ]
  },
  {
   "cell_type": "code",
   "execution_count": 14,
   "metadata": {},
   "outputs": [
    {
     "data": {
      "application/vnd.jupyter.widget-view+json": {
       "model_id": "054dc4d9372140ba80c32c78c1901f52",
       "version_major": 2,
       "version_minor": 0
      },
      "text/plain": [
       "HBox(children=(IntProgress(value=0, max=12), HTML(value='')))"
      ]
     },
     "metadata": {},
     "output_type": "display_data"
    },
    {
     "name": "stdout",
     "output_type": "stream",
     "text": [
      "\n"
     ]
    }
   ],
   "source": [
    "build_tree_timing_data = pd.DataFrame(columns=['avg', 'std'])\n",
    "store_snapshots_1 = []\n",
    "\n",
    "for nb_claims in tqdm_notebook(nb_claims_range):\n",
    "    profiler = Profiler()\n",
    "    reader_graph, labels, claims, params = generate_test_data(\n",
    "        nb_readers=nb_claims, nb_caps_per_reader=1)\n",
    "    stats_per_iteration = []\n",
    "    for n in range(20):\n",
    "        with profiler.as_default():\n",
    "            chain, state = commit_claims(reader_graph, labels, claims, params)\n",
    "            stats = profiler.compute_stats()\n",
    "            stats_per_iteration.append(stats)\n",
    "    timings = np.array([stats['_build_tree']['avg'] for stats in stats_per_iteration])\n",
    "    build_tree_timing_data.loc[nb_claims] = (np.mean(timings), np.std(timings))\n",
    "    \n",
    "    store_snapshots_1.append(chain.store.copy())"
   ]
  },
  {
   "cell_type": "code",
   "execution_count": 26,
   "metadata": {},
   "outputs": [
    {
     "name": "stderr",
     "output_type": "stream",
     "text": [
      "/home/bogdan/Workspace/claimchain-simulations/venv/lib/python3.5/site-packages/matplotlib/figure.py:2267: UserWarning: This figure includes Axes that are not compatible with tight_layout, so results might be incorrect.\n",
      "  warnings.warn(\"This figure includes Axes that are not compatible \"\n"
     ]
    },
    {
     "data": {
      "image/png": "[encoded data removed]",
      "text/plain": [
       "<Figure size 360x288 with 1 Axes>"
      ]
     },
     "metadata": {},
     "output_type": "display_data"
    }
   ],
   "source": [
    "fig, ax = plt.subplots()\n",
    "\n",
    "ax.plot(nb_claims_range, build_tree_timing_data['avg'])\n",
    "ax.fill_between(nb_claims_range,\n",
    "                 build_tree_timing_data['avg'] - build_tree_timing_data['std'],\n",
    "                 build_tree_timing_data['avg'] + build_tree_timing_data['std'],\n",
    "                 alpha=.2,\n",
    "                 label='1 st. dev.')\n",
    "\n",
    "ax.legend(loc=2, fontsize=15)\n",
    "ax.set_title('Claim map construction')\n",
    "ax.set_xlabel('Claim-capability pairs')\n",
    "ax.set_xlim(100, 5600)\n",
    "ax.set_ylabel('Time (s)')\n",
    "\n",
    "for item in ([ax.title, ax.xaxis.label, ax.yaxis.label] +\n",
    "             ax.get_xticklabels() + ax.get_yticklabels()):\n",
    "    item.set_fontsize(18)\n",
    "\n",
    "fig.set_figwidth(5)\n",
    "fig.set_figheight(4)\n",
    "fig.set_tight_layout(tight=True)\n",
    "    \n",
    "fig.savefig(os.path.join(image_data_folder, 'tree_build_timing.pdf'))"
   ]
  },
  {
   "cell_type": "markdown",
   "metadata": {},
   "source": [
    "Comparing the current timing for build the tree vs. inefficient one."
   ]
  },
  {
   "cell_type": "code",
   "execution_count": 28,
   "metadata": {},
   "outputs": [],
   "source": [
    "def is_leaf(obj):\n",
    "    return isinstance(obj, hippiehug.Nodes.Leaf)\n",
    "    \n",
    "def is_node(obj):\n",
    "    return isinstance(obj, hippiehug.Nodes.Branch)\n",
    "\n",
    "def is_block(obj):\n",
    "    return isinstance(obj, hippiehug.Block)\n",
    "    \n",
    "def is_blob(obj):\n",
    "    return isinstance(obj, Blob)\n",
    "\n",
    "def calc_objects_size(filter_fn, store):\n",
    "    objs = [serialize_object(obj) for obj in filter(filter_fn, store.values())]\n",
    "    return len(packb(objs))"
   ]
  },
  {
   "cell_type": "code",
   "execution_count": 29,
   "metadata": {},
   "outputs": [
    {
     "data": {
      "text/html": [
       "<div>\n",
       "<style scoped>\n",
       "    .dataframe tbody tr th:only-of-type {\n",
       "        vertical-align: middle;\n",
       "    }\n",
       "\n",
       "    .dataframe tbody tr th {\n",
       "        vertical-align: top;\n",
       "    }\n",
       "\n",
       "    .dataframe thead th {\n",
       "        text-align: right;\n",
       "    }\n",
       "</style>\n",
       "<table border=\"1\" class=\"dataframe\">\n",
       "  <thead>\n",
       "    <tr style=\"text-align: right;\">\n",
       "      <th></th>\n",
       "      <th>Tree nodes</th>\n",
       "      <th>Tree leaves</th>\n",
       "      <th>Block</th>\n",
       "    </tr>\n",
       "  </thead>\n",
       "  <tbody>\n",
       "    <tr>\n",
       "      <th>100</th>\n",
       "      <td>26483</td>\n",
       "      <td>90505</td>\n",
       "      <td>533</td>\n",
       "    </tr>\n",
       "    <tr>\n",
       "      <th>600</th>\n",
       "      <td>158883</td>\n",
       "      <td>542995</td>\n",
       "      <td>533</td>\n",
       "    </tr>\n",
       "    <tr>\n",
       "      <th>1100</th>\n",
       "      <td>294003</td>\n",
       "      <td>995496</td>\n",
       "      <td>533</td>\n",
       "    </tr>\n",
       "    <tr>\n",
       "      <th>1600</th>\n",
       "      <td>425043</td>\n",
       "      <td>1447988</td>\n",
       "      <td>533</td>\n",
       "    </tr>\n",
       "    <tr>\n",
       "      <th>2100</th>\n",
       "      <td>561363</td>\n",
       "      <td>1900484</td>\n",
       "      <td>533</td>\n",
       "    </tr>\n",
       "    <tr>\n",
       "      <th>2600</th>\n",
       "      <td>695203</td>\n",
       "      <td>2352983</td>\n",
       "      <td>532</td>\n",
       "    </tr>\n",
       "    <tr>\n",
       "      <th>3100</th>\n",
       "      <td>828483</td>\n",
       "      <td>2805474</td>\n",
       "      <td>532</td>\n",
       "    </tr>\n",
       "    <tr>\n",
       "      <th>3600</th>\n",
       "      <td>960483</td>\n",
       "      <td>3257967</td>\n",
       "      <td>533</td>\n",
       "    </tr>\n",
       "    <tr>\n",
       "      <th>4100</th>\n",
       "      <td>1093923</td>\n",
       "      <td>3710454</td>\n",
       "      <td>533</td>\n",
       "    </tr>\n",
       "    <tr>\n",
       "      <th>4600</th>\n",
       "      <td>1226963</td>\n",
       "      <td>4162947</td>\n",
       "      <td>533</td>\n",
       "    </tr>\n",
       "    <tr>\n",
       "      <th>5100</th>\n",
       "      <td>1362643</td>\n",
       "      <td>4615446</td>\n",
       "      <td>533</td>\n",
       "    </tr>\n",
       "    <tr>\n",
       "      <th>5600</th>\n",
       "      <td>1493843</td>\n",
       "      <td>5067943</td>\n",
       "      <td>533</td>\n",
       "    </tr>\n",
       "  </tbody>\n",
       "</table>\n",
       "</div>"
      ],
      "text/plain": [
       "     Tree nodes Tree leaves Block\n",
       "100       26483       90505   533\n",
       "600      158883      542995   533\n",
       "1100     294003      995496   533\n",
       "1600     425043     1447988   533\n",
       "2100     561363     1900484   533\n",
       "2600     695203     2352983   532\n",
       "3100     828483     2805474   532\n",
       "3600     960483     3257967   533\n",
       "4100    1093923     3710454   533\n",
       "4600    1226963     4162947   533\n",
       "5100    1362643     4615446   533\n",
       "5600    1493843     5067943   533"
      ]
     },
     "execution_count": 29,
     "metadata": {},
     "output_type": "execute_result"
    }
   ],
   "source": [
    "current_store_snapshots = store_snapshots_1\n",
    "sizes_data = pd.DataFrame(columns=['Tree nodes', 'Tree leaves', 'Block'])\n",
    "\n",
    "for nb_claims, snapshot in zip(nb_claims_range, current_store_snapshots):\n",
    "    sizes_data.loc[nb_claims] = (\n",
    "        calc_objects_size(is_node, snapshot),\n",
    "        calc_objects_size(is_blob, snapshot) + calc_objects_size(is_leaf, snapshot),\n",
    "        calc_objects_size(is_block, snapshot),\n",
    "    )\n",
    "sizes_data"
   ]
  },
  {
   "cell_type": "code",
   "execution_count": 30,
   "metadata": {},
   "outputs": [
    {
     "name": "stderr",
     "output_type": "stream",
     "text": [
      "/home/bogdan/Workspace/claimchain-simulations/venv/lib/python3.5/site-packages/matplotlib/figure.py:2267: UserWarning: This figure includes Axes that are not compatible with tight_layout, so results might be incorrect.\n",
      "  warnings.warn(\"This figure includes Axes that are not compatible \"\n"
     ]
    },
    {
     "data": {
      "image/png": "[encoded data removed]",
      "text/plain": [
       "<Figure size 360x288 with 1 Axes>"
      ]
     },
     "metadata": {},
     "output_type": "display_data"
    }
   ],
   "source": [
    "sns.set_palette(['#e66101', '#fdb863', '#333333'])\n",
    "\n",
    "unit = 1 / (1024. * 1024.)\n",
    "fig, ax = plt.subplots()\n",
    "\n",
    "sizes_data_mb = sizes_data * unit\n",
    "sizes_data_mb.plot.area(ax=ax, legend=None)\n",
    "ax.legend(fontsize=14, loc=2)\n",
    "ax.set_title('Storage breakdown')\n",
    "ax.set_xlabel('Claim-capability pairs')\n",
    "ax.set_ylabel('Size (MB)')\n",
    "ax.set_xlim(0, 5000)\n",
    "ax.set_ylim(0.1, 6)\n",
    "\n",
    "for item in ([ax.title, ax.xaxis.label, ax.yaxis.label] +\n",
    "             ax.get_xticklabels() + ax.get_yticklabels()):\n",
    "    item.set_fontsize(18)\n",
    "\n",
    "fig.set_figwidth(5)\n",
    "fig.set_figheight(4)\n",
    "fig.set_tight_layout(tight=True)\n",
    "\n",
    "fig.savefig(os.path.join(image_data_folder, 'storage_size.pdf'))"
   ]
  },
  {
   "cell_type": "markdown",
   "metadata": {},
   "source": [
    "Block size"
   ]
  },
  {
   "cell_type": "code",
   "execution_count": 31,
   "metadata": {},
   "outputs": [
    {
     "data": {
      "text/plain": [
       "532"
      ]
     },
     "execution_count": 31,
     "metadata": {},
     "output_type": "execute_result"
    }
   ],
   "source": [
    "import msgpack\n",
    "len(msgpack.packb(serialize_object(chain.store.get(chain.head))))"
   ]
  },
  {
   "cell_type": "markdown",
   "metadata": {},
   "source": [
    "## Timing core operations"
   ]
  },
  {
   "cell_type": "code",
   "execution_count": 32,
   "metadata": {},
   "outputs": [],
   "source": [
    "def simulate():\n",
    "    reader_graph, labels, claims, params = generate_test_data()\n",
    "\n",
    "    # Commit claims\n",
    "    chain, state = commit_claims(reader_graph, labels, claims, params)\n",
    "    # Simulate readers\n",
    "    view = read_claims(chain, reader_graph, labels, claims, params)\n",
    "    # Compute evidence of inclusion for each claim\n",
    "    evidence_map = compute_random_evidences(state, 2000)"
   ]
  },
  {
   "cell_type": "markdown",
   "metadata": {},
   "source": [
    "### High-level profiling"
   ]
  },
  {
   "cell_type": "code",
   "execution_count": 33,
   "metadata": {},
   "outputs": [],
   "source": [
    "profiler = Profiler()\n",
    "with profiler.as_default():\n",
    "    simulate()\n",
    "    stats = profiler.compute_stats()"
   ]
  },
  {
   "cell_type": "code",
   "execution_count": 34,
   "metadata": {},
   "outputs": [
    {
     "data": {
      "text/html": [
       "<div>\n",
       "<style scoped>\n",
       "    .dataframe tbody tr th:only-of-type {\n",
       "        vertical-align: middle;\n",
       "    }\n",
       "\n",
       "    .dataframe tbody tr th {\n",
       "        vertical-align: top;\n",
       "    }\n",
       "\n",
       "    .dataframe thead th {\n",
       "        text-align: right;\n",
       "    }\n",
       "</style>\n",
       "<table border=\"1\" class=\"dataframe\">\n",
       "  <thead>\n",
       "    <tr style=\"text-align: right;\">\n",
       "      <th></th>\n",
       "      <th>avg</th>\n",
       "      <th>max</th>\n",
       "      <th>min</th>\n",
       "      <th>std</th>\n",
       "    </tr>\n",
       "  </thead>\n",
       "  <tbody>\n",
       "    <tr>\n",
       "      <th>_build_tree</th>\n",
       "      <td>32.01</td>\n",
       "      <td>32.01</td>\n",
       "      <td>32.01</td>\n",
       "      <td>NaN</td>\n",
       "    </tr>\n",
       "    <tr>\n",
       "      <th>compute_claim_proof</th>\n",
       "      <td>2.96</td>\n",
       "      <td>5.03</td>\n",
       "      <td>2.33</td>\n",
       "      <td>0.68</td>\n",
       "    </tr>\n",
       "    <tr>\n",
       "      <th>compute_single_evidence_path</th>\n",
       "      <td>0.01</td>\n",
       "      <td>0.24</td>\n",
       "      <td>0.00</td>\n",
       "      <td>0.01</td>\n",
       "    </tr>\n",
       "    <tr>\n",
       "      <th>decode_capability</th>\n",
       "      <td>0.40</td>\n",
       "      <td>1.22</td>\n",
       "      <td>0.32</td>\n",
       "      <td>0.12</td>\n",
       "    </tr>\n",
       "    <tr>\n",
       "      <th>decode_claim</th>\n",
       "      <td>3.38</td>\n",
       "      <td>6.61</td>\n",
       "      <td>2.98</td>\n",
       "      <td>0.50</td>\n",
       "    </tr>\n",
       "    <tr>\n",
       "      <th>encode_capability</th>\n",
       "      <td>0.40</td>\n",
       "      <td>0.63</td>\n",
       "      <td>0.33</td>\n",
       "      <td>0.08</td>\n",
       "    </tr>\n",
       "    <tr>\n",
       "      <th>encode_claim</th>\n",
       "      <td>3.08</td>\n",
       "      <td>5.21</td>\n",
       "      <td>2.39</td>\n",
       "      <td>0.76</td>\n",
       "    </tr>\n",
       "    <tr>\n",
       "      <th>get_capability_lookup_key</th>\n",
       "      <td>0.33</td>\n",
       "      <td>0.73</td>\n",
       "      <td>0.29</td>\n",
       "      <td>0.06</td>\n",
       "    </tr>\n",
       "    <tr>\n",
       "      <th>verify_claim_proof</th>\n",
       "      <td>3.30</td>\n",
       "      <td>6.23</td>\n",
       "      <td>2.92</td>\n",
       "      <td>0.47</td>\n",
       "    </tr>\n",
       "  </tbody>\n",
       "</table>\n",
       "</div>"
      ],
      "text/plain": [
       "                                avg    max    min   std\n",
       "_build_tree                   32.01  32.01  32.01   NaN\n",
       "compute_claim_proof            2.96   5.03   2.33  0.68\n",
       "compute_single_evidence_path   0.01   0.24   0.00  0.01\n",
       "decode_capability              0.40   1.22   0.32  0.12\n",
       "decode_claim                   3.38   6.61   2.98  0.50\n",
       "encode_capability              0.40   0.63   0.33  0.08\n",
       "encode_claim                   3.08   5.21   2.39  0.76\n",
       "get_capability_lookup_key      0.33   0.73   0.29  0.06\n",
       "verify_claim_proof             3.30   6.23   2.92  0.47"
      ]
     },
     "execution_count": 34,
     "metadata": {},
     "output_type": "execute_result"
    }
   ],
   "source": [
    "df = pd.DataFrame(stats)\n",
    "df = df.T\n",
    "stat_cols = ['avg', 'max', 'min', 'std']\n",
    "df = df[stat_cols].apply(lambda value: value * 1000)  # milliseconds\n",
    "df = df.round(2)\n",
    "df"
   ]
  },
  {
   "cell_type": "code",
   "execution_count": 35,
   "metadata": {
    "scrolled": false
   },
   "outputs": [
    {
     "name": "stdout",
     "output_type": "stream",
     "text": [
      "\\begin{tabular}{lrr}\n",
      "\\toprule\n",
      "{} &  avg (ms) &   std \\\\\n",
      "\\midrule\n",
      "Inclusion proof computation                &      0.01 &  0.01 \\\\\n",
      "Single-label capab. lookup key computation &      0.33 &  0.06 \\\\\n",
      "Single-label capab. decoding               &      0.40 &  0.12 \\\\\n",
      "Single-label capab. encoding               &      0.40 &  0.08 \\\\\n",
      "Claim proof computation                    &      2.96 &  0.68 \\\\\n",
      "Claim encoding                             &      3.08 &  0.76 \\\\\n",
      "Claim proof verification                   &      3.30 &  0.47 \\\\\n",
      "Claim decoding                             &      3.38 &  0.50 \\\\\n",
      "Tree construction                          &     32.01 &   NaN \\\\\n",
      "\\bottomrule\n",
      "\\end{tabular}\n",
      "\n"
     ]
    }
   ],
   "source": [
    "pretty_df = df[['avg', 'std']].sort_index()\n",
    "readable_procedure_names = {\n",
    "    '_build_tree': 'Tree construction',\n",
    "    'compute_single_evidence_path': 'Inclusion proof computation',\n",
    "    'decode_capability': 'Single-label capab. decoding',\n",
    "    'decode_claim': 'Claim decoding',\n",
    "    'encode_capability': 'Single-label capab. encoding',\n",
    "    'encode_claim': 'Claim encoding',\n",
    "    'get_capability_lookup_key': 'Single-label capab. lookup key computation',\n",
    "    'verify_claim_proof': 'Claim proof verification',\n",
    "    'compute_claim_proof': 'Claim proof computation',\n",
    "}\n",
    "pretty_df.index = [readable_procedure_names[func_name] for func_name in pretty_df.index]\n",
    "pretty_df.sort_values(by='avg', inplace=True)\n",
    "pretty_df.columns = ['avg (ms)', 'std']\n",
    "print(pretty_df.to_latex())"
   ]
  },
  {
   "cell_type": "markdown",
   "metadata": {},
   "source": [
    "### Low-level profiling"
   ]
  },
  {
   "cell_type": "markdown",
   "metadata": {},
   "source": [
    "Full simulation"
   ]
  },
  {
   "cell_type": "code",
   "execution_count": 36,
   "metadata": {},
   "outputs": [
    {
     "name": "stdout",
     "output_type": "stream",
     "text": [
      "         4143529 function calls (3916648 primitive calls) in 18.547 seconds\n",
      "\n",
      "   Ordered by: cumulative time\n",
      "\n",
      "   ncalls  tottime  percall  cumtime  percall filename:lineno(function)\n",
      "        1    0.000    0.000   18.547   18.547 profile:0(simulate())\n",
      "        1    0.000    0.000   18.542   18.542 :0(exec)\n",
      "        1    0.013    0.013   18.542   18.542 <string>:1(<module>)\n",
      "        1    0.000    0.000   18.505   18.505 <ipython-input-32-770b847371ee>:1(simulate)\n",
      "9001/7001    0.102    0.000   16.214    0.002 __init__.py:57(wrapped)\n",
      "        1    0.017    0.017    9.467    9.467 <ipython-input-8-4a2ad94190eb>:1(read_claims)\n",
      "     1000    0.014    0.000    9.372    0.009 state.py:352(__getitem__)\n",
      "     1000    0.010    0.000    7.713    0.008 state.py:340(_lookup_claim)\n",
      "     1000    0.024    0.000    7.537    0.008 core.py:113(decode_claim)\n",
      "        1    0.004    0.004    7.066    7.066 <ipython-input-6-04883c6cd016>:1(commit_claims)\n",
      "     1000    0.120    0.000    7.004    0.007 zk.py:84(verify_claim_proof)\n",
      "        1    0.007    0.007    6.994    6.994 state.py:140(commit)\n",
      "    20004    0.142    0.000    6.820    0.000 ec.py:387(__rmul__)\n",
      "    20004    6.531    0.000    6.531    0.000 :0(EC_POINT_mul)\n",
      "     1000    0.021    0.000    5.831    0.006 core.py:81(encode_claim)\n",
      "     7005    0.034    0.000    5.761    0.001 pack.py:144(encode)\n",
      "29013/7009    0.153    0.000    5.722    0.001 __init__.py:41(packb)\n",
      "29013/7009    0.137    0.000    5.651    0.001 fallback.py:850(pack)\n",
      "110135/7009    2.024    0.000    5.611    0.001 fallback.py:740(_pack)\n",
      "     1000    0.079    0.000    5.346    0.005 zk.py:27(compute_claim_proof)\n",
      "    25006    0.184    0.000    3.416    0.000 pack.py:103(default)\n",
      "    22004    0.137    0.000    2.767    0.000 pack.py:81(ecpt_enc)\n",
      "        1    0.002    0.002    1.692    1.692 <ipython-input-5-bfea3adba04c>:1(generate_test_data)\n",
      "        1    0.003    0.003    1.648    1.648 <ipython-input-5-bfea3adba04c>:5(<listcomp>)\n",
      "     1001    0.015    0.000    1.647    0.002 params.py:85(generate)\n",
      "     4004    0.066    0.000    1.598    0.000 params.py:43(generate)\n",
      "     1000    0.015    0.000    1.598    0.002 state.py:327(_lookup_capability)\n",
      "  1087914    1.281    0.000    1.289    0.000 :0(isinstance)\n",
      "    31004    0.310    0.000    0.947    0.000 ec.py:437(export)\n",
      "     1000    0.030    0.000    0.877    0.001 core.py:179(decode_capability)\n",
      "     6000    0.136    0.000    0.809    0.000 ec.py:195(hash_to_point)\n",
      "     1000    0.025    0.000    0.805    0.001 core.py:148(encode_capability)\n",
      "     5004    0.034    0.000    0.804    0.000 pack.py:150(decode)\n",
      "5008/5004    0.060    0.000    0.763    0.000 fallback.py:114(unpackb)\n",
      "    22004    0.403    0.000    0.602    0.000 bn.py:474(__mul__)\n",
      "18016/5004    0.152    0.000    0.547    0.000 fallback.py:559(_unpack)\n",
      "    62008    0.520    0.000    0.520    0.000 :0(EC_POINT_point2oct)\n",
      "     1000    0.026    0.000    0.496    0.000 core.py:63(get_capability_lookup_key)\n",
      "     4000    0.012    0.000    0.454    0.000 wrappers.py:222(evidence)\n",
      "     4000    0.021    0.000    0.441    0.000 Tree.py:151(evidence)\n",
      "59363/4000    0.217    0.000    0.404    0.000 Nodes.py:240(evidence)\n",
      "    39011    0.165    0.000    0.345    0.000 wrappers.py:11(get_default)\n",
      "     4000    0.062    0.000    0.319    0.000 core.py:37(_compute_capability_key)\n",
      "    18016    0.118    0.000    0.309    0.000 fallback.py:347(_read_header)\n",
      "        1    0.000    0.000    0.304    0.304 state.py:100(_build_tree)\n",
      "     2000    0.017    0.000    0.297    0.000 wrappers.py:164(__getitem__)\n",
      "        1    0.012    0.012    0.295    0.295 wrappers.py:198(update)\n",
      "        1    0.005    0.005    0.278    0.278 <ipython-input-7-f80d1b434e46>:11(compute_random_evidences)\n",
      "    78192    0.158    0.000    0.263    0.000 bn.py:220(__init__)\n",
      "    25006    0.132    0.000    0.251    0.000 __init__.py:10(__new__)\n",
      "    68029    0.157    0.000    0.241    0.000 wrappers.py:44(__getitem__)\n",
      "   223308    0.236    0.000    0.236    0.000 :0(len)\n",
      "   194226    0.221    0.000    0.221    0.000 :0(write)\n",
      "     2000    0.005    0.000    0.217    0.000 <ipython-input-7-f80d1b434e46>:1(compute_single_evidence_path)\n",
      "    76104    0.127    0.000    0.210    0.000 bn.py:261(__del__)\n",
      "     2000    0.023    0.000    0.204    0.000 cipher.py:204(quick_gcm_dec)\n",
      "    34004    0.078    0.000    0.204    0.000 fallback.py:959(_pack_bin_header)\n",
      "        1    0.000    0.000    0.193    0.193 Tree.py:44(multi_add)\n",
      "     8088    0.178    0.000    0.178    0.000 :0(EC_POINT_set_compressed_coordinates_GFp)\n",
      "   1999/1    0.019    0.000    0.177    0.177 Nodes.py:53(multi_add)\n",
      "   1333/1    0.042    0.000    0.177    0.177 Nodes.py:134(multi_add)\n",
      "     5000    0.053    0.000    0.174    0.000 ec.py:289(__add__)\n",
      "   135136    0.172    0.000    0.172    0.000 :0(pack)\n",
      "     2000    0.017    0.000    0.169    0.000 cipher.py:171(quick_gcm_enc)\n",
      "    16088    0.071    0.000    0.168    0.000 bn.py:181(from_binary)\n",
      "     3002    0.011    0.000    0.163    0.000 pack.py:52(bn_enc)\n",
      "    29017    0.092    0.000    0.156    0.000 fallback.py:923(_pack_array_header)\n",
      "   149201    0.149    0.000    0.149    0.000 bn.py:93(get_ctx)\n",
      "    44036    0.100    0.000    0.145    0.000 fallback.py:315(_reserve)\n",
      "    82694    0.083    0.000    0.143    0.000 wrappers.py:17(_check_hash)\n",
      "     6000    0.051    0.000    0.142    0.000 ec.py:71(parameters)\n",
      "    53017    0.096    0.000    0.139    0.000 ec.py:24(_check)\n",
      "     4000    0.060    0.000    0.133    0.000 cipher.py:79(op)\n",
      "    26008    0.071    0.000    0.132    0.000 bn.py:118(from_num)\n",
      "    41007    0.084    0.000    0.131    0.000 encodings.py:6(ensure_binary)\n",
      "     6004    0.011    0.000    0.121    0.000 bn.py:276(__lt__)\n",
      "    34008    0.072    0.000    0.120    0.000 ec.py:262(__init__)\n",
      "     8088    0.047    0.000    0.117    0.000 bn.py:676(__mod__)\n",
      "     4000    0.034    0.000    0.115    0.000 core.py:27(_compute_claim_key)\n",
      "13008/7004    0.048    0.000    0.114    0.000 bn.py:265(__inner_cmp__)\n",
      "     4000    0.054    0.000    0.109    0.000 cipher.py:273(update)\n",
      "    34008    0.059    0.000    0.107    0.000 ec.py:430(__del__)\n",
      "    39011    0.075    0.000    0.106    0.000 stack.py:222(get_default)\n",
      "    78192    0.105    0.000    0.105    0.000 :0(BN_new)\n",
      "    22079    0.064    0.000    0.104    0.000 fallback.py:947(_pack_raw_header)\n",
      "     6004    0.030    0.000    0.103    0.000 bn.py:361(random)\n",
      "     5000    0.023    0.000    0.103    0.000 utils.py:8(hash_to_bn)\n",
      "    66019    0.079    0.000    0.099    0.000 :0(hasattr)\n",
      "    10000    0.023    0.000    0.098    0.000 wrappers.py:12(hid)\n",
      "     5008    0.052    0.000    0.092    0.000 fallback.py:212(__init__)\n",
      "    22004    0.054    0.000    0.091    0.000 ec.py:173(nid)\n",
      "     3002    0.020    0.000    0.089    0.000 bn.py:343(binary)\n",
      "    29013    0.079    0.000    0.086    0.000 fallback.py:711(__init__)\n",
      "    48008    0.084    0.000    0.084    0.000 :0(new)\n",
      "     1999    0.022    0.000    0.083    0.000 Nodes.py:31(add)\n",
      "    76106    0.083    0.000    0.083    0.000 :0(BN_clear_free)\n",
      "     2000    0.006    0.000    0.080    0.000 cipher.py:139(dec)\n",
      "    13008    0.037    0.000    0.078    0.000 fallback.py:308(_read)\n",
      "    25006    0.049    0.000    0.077    0.000 <string>:12(__new__)\n",
      "    45425    0.076    0.000    0.076    0.000 :0(digest)\n",
      "    10004    0.032    0.000    0.075    0.000 Utils.py:9(binary_hash)\n",
      "     2004    0.014    0.000    0.073    0.000 ec.py:245(from_binary)\n",
      "     1000    0.008    0.000    0.071    0.000 ec.py:342(__sub__)\n",
      "    32337    0.070    0.000    0.070    0.000 :0(openssl_sha256)\n",
      "     1000    0.004    0.000    0.066    0.000 state.py:253(grant_access)\n",
      "     2000    0.005    0.000    0.064    0.000 cipher.py:128(enc)\n",
      "     3004    0.008    0.000    0.064    0.000 pack.py:124(ext_hook)\n",
      "     2000    0.004    0.000    0.061    0.000 ec.py:434(__hash__)\n",
      "     1001    0.016    0.000    0.057    0.000 random.py:280(sample)\n",
      "     4000    0.030    0.000    0.057    0.000 cipher.py:290(finalize)\n",
      "     6000    0.024    0.000    0.054    0.000 ec.py:163(__eq__)\n",
      "     7332    0.023    0.000    0.054    0.000 wrappers.py:55(__setitem__)\n",
      "     5008    0.030    0.000    0.052    0.000 fallback.py:287(feed)\n",
      "     7332    0.024    0.000    0.052    0.000 Nodes.py:4(h)\n",
      "     3000    0.012    0.000    0.049    0.000 pack.py:61(bn_dec)\n",
      "    18092    0.033    0.000    0.049    0.000 bn.py:50(_check)\n",
      "    34008    0.048    0.000    0.048    0.000 :0(EC_POINT_new)\n",
      "    34008    0.048    0.000    0.048    0.000 :0(EC_POINT_clear_free)\n",
      "     2000    0.012    0.000    0.044    0.000 core.py:17(_generate_prf_key)\n",
      "     2004    0.043    0.000    0.043    0.000 :0(EC_POINT_oct2point)\n",
      "        1    0.000    0.000    0.039    0.039 state.py:280(__init__)\n",
      "        2    0.010    0.005    0.038    0.019 wrappers.py:30(__init__)\n",
      "    22004    0.037    0.000    0.037    0.000 :0(EC_GROUP_get_curve_name)\n",
      "     6000    0.021    0.000    0.036    0.000 ec.py:181(check_point)\n",
      "     3332    0.012    0.000    0.035    0.000 Nodes.py:96(__init__)\n",
      "     6004    0.034    0.000    0.034    0.000 :0(BN_rand_range)\n",
      "     1000    0.010    0.000    0.031    0.000 ec.py:420(__eq__)\n",
      "    13088    0.029    0.000    0.029    0.000 :0(openssl_sha512)\n",
      "    29013    0.029    0.000    0.029    0.000 :0(getvalue)\n",
      "    25006    0.028    0.000    0.028    0.000 :0(__new__)\n",
      "     2000    0.010    0.000    0.027    0.000 bn.py:518(mod_sub)\n",
      "     3000    0.016    0.000    0.027    0.000 random.py:220(_randbelow)\n",
      "    16088    0.026    0.000    0.026    0.000 :0(BN_bin2bn)\n",
      "     5004    0.025    0.000    0.025    0.000 :0(warn)\n",
      "     1000    0.010    0.000    0.024    0.000 ec.py:346(__neg__)\n",
      "    20265    0.024    0.000    0.024    0.000 :0(append)\n",
      "     2000    0.008    0.000    0.023    0.000 Nodes.py:12(__init__)\n",
      "     6000    0.023    0.000    0.023    0.000 :0(EC_GROUP_cmp)\n",
      "     1001    0.007    0.000    0.022    0.000 params.py:61(generate)\n",
      "    16000    0.021    0.000    0.021    0.000 :0(EVP_CIPHER_CTX_ctrl)\n",
      "     8000    0.019    0.000    0.019    0.000 :0(EVP_CipherInit_ex)\n",
      "     2000    0.007    0.000    0.019    0.000 cipher.py:234(__init__)\n",
      "     5000    0.018    0.000    0.018    0.000 :0(EC_POINT_add)\n",
      "     1001    0.003    0.000    0.017    0.000 wrappers.py:8(as_default)\n",
      "     2000    0.007    0.000    0.017    0.000 core.py:51(_salt_label)\n",
      "     8088    0.017    0.000    0.017    0.000 :0(BN_nnmod)\n",
      "        1    0.003    0.003    0.016    0.016 Tree.py:58(<listcomp>)\n",
      "     4000    0.009    0.000    0.015    0.000 cipher.py:238(init)\n",
      "     1001    0.006    0.000    0.015    0.000 contextlib.py:63(__exit__)\n",
      "     6000    0.015    0.000    0.015    0.000 :0(EC_GROUP_get_curve_GFp)\n",
      "     2002    0.005    0.000    0.015    0.000 :0(next)\n",
      "        1    0.005    0.005    0.014    0.014 wrappers.py:208(<dictcomp>)\n",
      "     1001    0.004    0.000    0.014    0.000 wrappers.py:32(set_default)\n",
      "     5008    0.009    0.000    0.013    0.000 fallback.py:299(_got_extradata)\n",
      "     5008    0.013    0.000    0.013    0.000 fallback.py:85(_get_data_from_buffer)\n",
      "     2000    0.007    0.000    0.013    0.000 cipher.py:344(get_tag)\n",
      "     4000    0.008    0.000    0.013    0.000 cipher.py:8(get_intptr)\n",
      "    12013    0.012    0.000    0.012    0.000 :0(callable)\n",
      "    10082    0.012    0.000    0.012    0.000 :0(encode)\n",
      "     3002    0.012    0.000    0.012    0.000 :0(urandom)\n",
      "     4000    0.008    0.000    0.012    0.000 cipher.py:13(return_intptr)\n",
      "     2000    0.007    0.000    0.012    0.000 cipher.py:368(set_tag)\n",
      "     4000    0.011    0.000    0.011    0.000 :0(EVP_CipherUpdate)\n",
      "     6000    0.011    0.000    0.011    0.000 :0(EC_POINT_is_on_curve)\n",
      "     1001    0.004    0.000    0.010    0.000 contextlib.py:131(helper)\n",
      "     5012    0.010    0.000    0.010    0.000 :0(unpack_from)\n",
      "     2002    0.007    0.000    0.009    0.000 stack.py:228(get_context_manager)\n",
      "     7004    0.009    0.000    0.009    0.000 :0(BN_cmp)\n",
      "        2    0.000    0.000    0.009    0.005 misc.py:14(__get__)\n",
      "        1    0.000    0.000    0.009    0.009 state.py:306(params)\n",
      "        1    0.000    0.000    0.009    0.009 params.py:117(from_dict)\n",
      "        4    0.000    0.000    0.009    0.002 params.py:127(maybe_load_keypair)\n",
      "     7001    0.009    0.000    0.009    0.000 :0(pop)\n",
      "        8    0.000    0.000    0.009    0.001 params.py:123(maybe_decode)\n",
      "        4    0.000    0.000    0.009    0.002 encodings.py:51(ascii2pet)\n",
      "        1    0.007    0.007    0.009    0.009 state.py:105(<dictcomp>)\n",
      "     7005    0.009    0.000    0.009    0.000 pack.py:112(make_encoder)\n",
      "     5008    0.008    0.000    0.008    0.000 :0(min)\n",
      "     8004    0.008    0.000    0.008    0.000 ec.py:114(order)\n",
      "        1    0.003    0.003    0.008    0.008 <ipython-input-5-bfea3adba04c>:3(<listcomp>)\n",
      "     1000    0.003    0.000    0.008    0.000 bn.py:282(__eq__)\n",
      "     4000    0.008    0.000    0.008    0.000 :0(EVP_CipherFinal_ex)\n",
      "     2002    0.005    0.000    0.007    0.000 abc.py:178(__instancecheck__)\n",
      "     6004    0.007    0.000    0.007    0.000 ec.py:88(generator)\n",
      "     1001    0.002    0.000    0.007    0.000 contextlib.py:57(__enter__)\n",
      "     5004    0.007    0.000    0.007    0.000 pack.py:132(make_decoder)\n",
      "        4    0.000    0.000    0.007    0.002 pack.py:88(ecpt_dec)\n",
      "     2000    0.005    0.000    0.006    0.000 cipher.py:387(__del__)\n",
      "     4000    0.006    0.000    0.006    0.000 :0(EVP_CIPHER_CTX_init)\n",
      "     1001    0.005    0.000    0.006    0.000 contextlib.py:37(__init__)\n",
      "     3802    0.006    0.000    0.006    0.000 :0(getrandbits)\n",
      "        1    0.005    0.005    0.005    0.005 :0(setprofile)\n",
      "     4000    0.005    0.000    0.005    0.000 cipher.py:72(len_block)\n",
      "        4    0.000    0.000    0.005    0.001 ec.py:60(__init__)\n",
      "     4008    0.005    0.000    0.005    0.000 <attrs generated init d20996ddac6896740d800c9fac4a6a633822cf55>:1(__init__)\n",
      "     4000    0.005    0.000    0.005    0.000 Nodes.py:85(evidence)\n",
      "     2000    0.005    0.000    0.005    0.000 :0(EVP_CIPHER_CTX_new)\n",
      "        4    0.005    0.001    0.005    0.001 :0(EC_GROUP_precompute_mult)\n",
      "     5004    0.005    0.000    0.005    0.000 fallback.py:49(<lambda>)\n",
      "     2000    0.005    0.000    0.005    0.000 core.py:59(_fix_bytes)\n",
      "     3000    0.004    0.000    0.004    0.000 :0(bit_length)\n",
      "     2000    0.004    0.000    0.004    0.000 :0(BN_mod_sub)\n",
      "        1    0.000    0.000    0.004    0.004 Chain.py:117(multi_add)\n",
      "        1    0.001    0.001    0.004    0.004 <ipython-input-5-bfea3adba04c>:2(<listcomp>)\n",
      "     3002    0.004    0.000    0.004    0.000 :0(BN_bn2bin)\n",
      "     3002    0.004    0.000    0.004    0.000 :0(bn_num_bytes)\n",
      "        4    0.000    0.000    0.004    0.001 Chain.py:42(hash)\n",
      "     2000    0.003    0.000    0.003    0.000 :0(BN_mul)\n",
      "     1000    0.003    0.000    0.003    0.000 :0(EC_POINT_cmp)\n",
      "        5    0.000    0.000    0.003    0.001 encodings.py:40(pet2ascii)\n",
      "     2000    0.003    0.000    0.003    0.000 <attrs generated init bcca7c8adc721e1245319eb2a8c91efb0533fe3d>:1(__init__)\n",
      "        1    0.000    0.000    0.003    0.003 state.py:65(build)\n",
      "     3003    0.003    0.000    0.003    0.000 _weakrefset.py:70(__contains__)\n",
      "     3000    0.003    0.000    0.003    0.000 :0(ord)\n",
      "        3    0.000    0.000    0.002    0.001 Chain.py:47(hid)\n",
      "     12/4    0.000    0.000    0.002    0.001 fallback.py:941(_pack_map_pairs)\n",
      "        1    0.000    0.000    0.002    0.002 params.py:97(public_export)\n",
      "        1    0.000    0.000    0.002    0.002 params.py:105(_export)\n",
      "        7    0.001    0.000    0.002    0.000 base58.py:73(b58decode)\n",
      "     1998    0.002    0.000    0.002    0.000 Nodes.py:88(_check_hash)\n",
      "     1002    0.002    0.000    0.002    0.000 <attrs generated init f2d89378044e667bb57035993cf195fe34399503>:1(__init__)\n",
      "        1    0.000    0.000    0.002    0.002 state.py:112(_sign_block)\n",
      "     1000    0.002    0.000    0.002    0.000 :0(EC_POINT_copy)\n",
      "     1000    0.002    0.000    0.002    0.000 :0(EC_POINT_invert)\n",
      "     1031    0.002    0.000    0.002    0.000 :0(getattr)\n",
      "        7    0.000    0.000    0.001    0.000 base58.py:41(b58encode)\n",
      "     1002    0.001    0.000    0.001    0.000 <attrs generated init c1e0bf45f41f45865f778359ecc5b8e2c20904a9>:1(__init__)\n",
      "     1000    0.001    0.000    0.001    0.000 <ipython-input-6-04883c6cd016>:13(<listcomp>)\n",
      "        7    0.001    0.000    0.001    0.000 base58.py:30(b58encode_int)\n",
      "     1000    0.001    0.000    0.001    0.000 :0(add)\n",
      "        7    0.000    0.000    0.001    0.000 base58.py:61(b58decode_int)\n",
      "     1000    0.001    0.000    0.001    0.000 state.py:245(__setitem__)\n",
      "        3    0.000    0.000    0.001    0.000 encodings.py:32(ascii2bytes)\n",
      "     1000    0.001    0.000    0.001    0.000 :0(update)\n",
      "      654    0.001    0.000    0.001    0.000 :0(divmod)\n",
      "        1    0.000    0.000    0.001    0.001 Chain.py:35(__init__)\n",
      "     25/2    0.000    0.000    0.001    0.000 copy.py:137(deepcopy)\n",
      "        4    0.000    0.000    0.000    0.000 ec.py:177(__del__)\n",
      "        4    0.000    0.000    0.000    0.000 :0(EC_GROUP_free)\n",
      "        1    0.000    0.000    0.000    0.000 copy.py:214(_deepcopy_list)\n",
      "      3/1    0.000    0.000    0.000    0.000 copy.py:239(_deepcopy_dict)\n",
      "        1    0.000    0.000    0.000    0.000 sign.py:6(sign)\n",
      "      346    0.000    0.000    0.000    0.000 :0(index)\n",
      "      3/2    0.000    0.000    0.000    0.000 _funcs.py:10(asdict)\n",
      "        1    0.000    0.000    0.000    0.000 ecdsa.py:41(do_ecdsa_setup)\n",
      "        1    0.000    0.000    0.000    0.000 state.py:95(export)\n",
      "        2    0.000    0.000    0.000    0.000 encodings.py:24(bytes2ascii)\n",
      "        4    0.000    0.000    0.000    0.000 :0(EC_GROUP_new_by_curve_name)\n",
      "        1    0.000    0.000    0.000    0.000 :0(ECDSA_sign_setup)\n",
      "        1    0.000    0.000    0.000    0.000 ecdsa.py:65(do_ecdsa_sign)\n",
      "       59    0.000    0.000    0.000    0.000 :0(get)\n",
      "       15    0.000    0.000    0.000    0.000 _funcs.py:142(has)\n",
      "        1    0.000    0.000    0.000    0.000 :0(ECDSA_do_sign_ex)\n",
      "       12    0.000    0.000    0.000    0.000 fallback.py:932(_pack_map_header)\n",
      "       34    0.000    0.000    0.000    0.000 :0(id)\n",
      "        5    0.000    0.000    0.000    0.000 encodings.py:18(ensure_text)\n",
      "        5    0.000    0.000    0.000    0.000 _funcs.py:59(<genexpr>)\n",
      "        1    0.000    0.000    0.000    0.000 :0(log)\n",
      "       14    0.000    0.000    0.000    0.000 :0(lstrip)\n",
      "        4    0.000    0.000    0.000    0.000 copy.py:253(_keep_alive)\n",
      "        3    0.000    0.000    0.000    0.000 _make.py:1003(fields)\n",
      "       12    0.000    0.000    0.000    0.000 fallback.py:12(dict_iteritems)\n",
      "       25    0.000    0.000    0.000    0.000 :0(items)\n",
      "        2    0.000    0.000    0.000    0.000 wrappers.py:154(__init__)\n",
      "        3    0.000    0.000    0.000    0.000 wrappers.py:160(root_hash)\n",
      "        7    0.000    0.000    0.000    0.000 :0(decode)\n",
      "       21    0.000    0.000    0.000    0.000 copy.py:192(_deepcopy_atomic)\n",
      "        2    0.000    0.000    0.000    0.000 <attrs generated init eacfa618946765442762c5b3c5be7d9934db3f73>:1(__init__)\n",
      "        1    0.000    0.000    0.000    0.000 state.py:301(payload)\n",
      "        2    0.000    0.000    0.000    0.000 :0(EC_KEY_set_group)\n",
      "        3    0.000    0.000    0.000    0.000 _compat.py:78(isclass)\n",
      "       12    0.000    0.000    0.000    0.000 cycler.py:227(<genexpr>)\n",
      "        1    0.000    0.000    0.000    0.000 state.py:84(from_dict)\n",
      "        1    0.000    0.000    0.000    0.000 params.py:134(maybe_load_prf_key)\n",
      "        4    0.000    0.000    0.000    0.000 :0(BN_copy)\n",
      "        1    0.000    0.000    0.000    0.000 state.py:62(<lambda>)\n",
      "        7    0.000    0.000    0.000    0.000 base58.py:25(<lambda>)\n",
      "        2    0.000    0.000    0.000    0.000 :0(values)\n",
      "        1    0.000    0.000    0.000    0.000 :0(ceil)\n",
      "        2    0.000    0.000    0.000    0.000 :0(EC_KEY_new)\n",
      "        1    0.000    0.000    0.000    0.000 _compat.py:83(iteritems)\n",
      "        3    0.000    0.000    0.000    0.000 Tree.py:21(root)\n",
      "        2    0.000    0.000    0.000    0.000 Tree.py:5(__init__)\n",
      "        1    0.000    0.000    0.000    0.000 state.py:123(__init__)\n",
      "        2    0.000    0.000    0.000    0.000 <attrs generated init 0f7b493ae2a84b2d4bbebcc21069f11153b2a556>:1(__init__)\n",
      "        2    0.000    0.000    0.000    0.000 :0(setattr)\n",
      "        2    0.000    0.000    0.000    0.000 :0(EC_KEY_set_private_key)\n",
      "        1    0.000    0.000    0.000    0.000 :0(EC_KEY_free)\n",
      "        1    0.000    0.000    0.000    0.000 :0(time)\n",
      "        1    0.000    0.000    0.000    0.000 :0(keys)\n",
      "        1    0.000    0.000    0.000    0.000 :0(ECDSA_SIG_free)\n",
      "        1    0.000    0.000    0.000    0.000 Chain.py:108(__init__)\n",
      "        1    0.000    0.000    0.000    0.000 Nodes.py:27(identity)\n",
      "        1    0.000    0.000    0.000    0.000 Nodes.py:109(identity)\n",
      "        0    0.000             0.000          profile:0(profiler)\n",
      "\n",
      "\n"
     ]
    }
   ],
   "source": [
    "profiler = PythonProfiler()\n",
    "profiler.runctx(\"simulate()\", globals(), locals())\n",
    "profiler.create_stats()\n",
    "\n",
    "profiler.print_stats(sort='cumtime')"
   ]
  }
 ],
 "metadata": {
  "kernelspec": {
   "display_name": "Python 3",
   "language": "python",
   "name": "python3"
  },
  "language_info": {
   "codemirror_mode": {
    "name": "ipython",
    "version": 3
   },
   "file_extension": ".py",
   "mimetype": "text/x-python",
   "name": "python",
   "nbconvert_exporter": "python",
   "pygments_lexer": "ipython3",
   "version": "3.5.2"
  }
 },
 "nbformat": 4,
 "nbformat_minor": 1
}
